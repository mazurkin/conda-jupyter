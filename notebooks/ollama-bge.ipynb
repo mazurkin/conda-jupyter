{
 "cells": [
  {
   "cell_type": "code",
   "execution_count": 1,
   "id": "48b30ecf-7f52-4390-8678-99b14cdb9f6a",
   "metadata": {},
   "outputs": [],
   "source": [
    "import numpy as np\n",
    "import requests\n",
    "import json\n",
    "import scipy\n",
    "import scipy.spatial\n",
    "import plotly.express as px"
   ]
  },
  {
   "cell_type": "markdown",
   "id": "432612c6-ffd8-4d20-a14f-13f83e1e6b5f",
   "metadata": {},
   "source": [
    "### model"
   ]
  },
  {
   "cell_type": "markdown",
   "id": "9277fff0-1b38-4a85-a5d6-a0ada5a9c4f3",
   "metadata": {},
   "source": [
    "https://ollama.com/library/bge-m3:567m"
   ]
  },
  {
   "cell_type": "markdown",
   "id": "db6e327c-5b82-43fb-978b-0187b0f42150",
   "metadata": {},
   "source": [
    "https://ollama.com/library/mxbai-embed-large:335m"
   ]
  },
  {
   "cell_type": "markdown",
   "id": "174f9a46-ae4f-4dea-ad7c-b113871cb906",
   "metadata": {},
   "source": [
    "### Tricomoniasis"
   ]
  },
  {
   "cell_type": "markdown",
   "id": "9f28b073-208d-4fc3-9ecd-58e6d415d306",
   "metadata": {},
   "source": [
    "#### positive samples"
   ]
  },
  {
   "cell_type": "markdown",
   "id": "b78cd1e4-0d3c-4ce8-955c-6f6ebee59e08",
   "metadata": {},
   "source": [
    "https://en.wikipedia.org/wiki/Trichomoniasis"
   ]
  },
  {
   "cell_type": "code",
   "execution_count": 2,
   "id": "29b9f9da-0410-4e77-989c-0a69ad1bf9eb",
   "metadata": {},
   "outputs": [],
   "source": [
    "sample_wiki_en = \"\"\"\n",
    "Trichomoniasis (trich) is an infectious disease caused by the parasite Trichomonas vaginalis.[2] About 70% of affected people do not have symptoms when infected.[2] When symptoms occur, they typically begin 5 to 28 days after exposure.[1] Symptoms can include itching in the genital area, a bad smelling thin vaginal discharge, burning with urination, and pain with sex.[1][2] Having trichomoniasis increases the risk of getting HIV/AIDS.[1] It may also cause complications during pregnancy.[1]\n",
    "\n",
    "Trichomoniasis is a sexually transmitted infection (STI) most often spread by vaginal, oral, or anal sex.[1] It can also spread through genital touching (manual sex).[1] People who are infected may spread the disease even when symptoms are not present.[2] Diagnosis is by finding the parasite in the vaginal fluid using a microscope, culturing the vaginal fluid or urine, or testing for the parasite's DNA.[1] If present, other STIs should be tested for.[1]\n",
    "\n",
    "Methods of prevention include not having sex, using condoms, not douching, and being tested for STIs before having sex with a new partner.[1] Although not caused by a bacterium, trichomoniasis can be cured with certain antibiotics (metronidazole, tinidazole, secnidazole).[1] Sexual partners should also be treated.[1] About 20% of people get infected again within three months of treatment.[2]\n",
    "\n",
    "There were about 122 million new cases of trichomoniasis in 2015.[3] In the United States, about 2 million women are affected.[1] It occurs more often in women than men.[1] Trichomonas vaginalis was first identified in 1836 by Alfred Donné.[4] It was first recognized as causing this disease in 1916.[5]\n",
    "Signs and symptoms\n",
    "\n",
    "Most people infected with Trichomonas vaginalis do not have any symptoms and it can be undetected for years.[6] Symptoms include pain, burning or itching in the penis, urethra (urethritis), or vagina (vaginitis). Discomfort for both sexes may increase during intercourse and urination. For women there may also be a yellow-green, itchy, frothy, foul-smelling (\"fishy\" smell) vaginal discharge. In rare cases, lower abdominal pain can occur. Symptoms usually appear within 5 to 28 days of exposure.[7] Sometimes trichomoniasis can be confused with chlamydia because the symptoms are similar.[8]\n",
    "Complications\n",
    "\n",
    "Trichomoniasis is linked to several serious complications.\n",
    "\n",
    "    Trichomoniasis is associated with increased risk of transmission and infection of HIV.[9][10]\n",
    "    Trichomoniasis may cause a woman to deliver a low-birth-weight or premature infant.[9]\n",
    "    The role of Trichomonas infection in causing cervical cancer is unclear, although trichomonas infection may be associated with co-infection with high-risk strains of HPV.[11]\n",
    "    T. vaginalis infection in males has been found to cause asymptomatic urethritis and prostatitis. In the prostate, it may create chronic inflammation that may eventually lead to prostate cancer.[12][13]\n",
    "\"\"\""
   ]
  },
  {
   "cell_type": "markdown",
   "id": "d852a460-0a4a-4c4d-801c-44101ce755be",
   "metadata": {},
   "source": [
    "https://es.wikipedia.org/wiki/Tricomoniasis"
   ]
  },
  {
   "cell_type": "code",
   "execution_count": 3,
   "id": "b5b48e95-7123-499a-856e-0c8653e42597",
   "metadata": {},
   "outputs": [],
   "source": [
    "sample_wiki_es = \"\"\"\n",
    "La tricomoniasis es una infección de transmisión sexual caracterizada por la infección del aparato urogenital del ser humano y de otros animales por protozoos de la especie Trichomonas vaginalis.\n",
    "En los seres humanos, T. vaginalis se suele trasmitir a través de las relaciones sexuales. En las mujeres es habitual encontrarlo en la vagina, donde con frecuencia origina sensación de quemazón, prurito y exudado irritativo; en los hombres puede afectar a la próstata y la uretra; y en ambos sexos irrita la vejiga. \n",
    "\"\"\""
   ]
  },
  {
   "cell_type": "markdown",
   "id": "1a676d48-bcf6-483c-850e-b056191eb7cf",
   "metadata": {},
   "source": [
    "https://de.wikipedia.org/wiki/Trichomoniasis"
   ]
  },
  {
   "cell_type": "code",
   "execution_count": 4,
   "id": "36981c4a-8d99-4ba5-a796-ab7a6af069f1",
   "metadata": {},
   "outputs": [],
   "source": [
    "sample_wiki_de = \"\"\"\n",
    "Die Trichomoniasis wird beim Menschen durch das Geißeltierchen Trichomonas vaginalis verursacht, welches wie alle Trichomonaden außerhalb seines Lebensraumes nicht lange lebensfähig ist. \n",
    "Bei den meisten Männern ist der Befall symptomlos. Vor allem nisten sich die Trichomonaden in der Prostata, der Harnröhre und unter der Penisvorhaut ein. Gelegentlich kommt es zu einer schmerzhaften Entzündung der Harnröhre. Selten werden die Samenblasen befallen. Da bei Männern meist keine Symptome auftreten, wissen sie oft nichts von der Infektion und sind deshalb die hauptsächlichen Überträger der Parasiten. \n",
    "Bei etwa 80 Prozent der Frauen kommt es nach einer längeren Phase ohne Symptome zu Entzündungen (Trichomonadenkolpitis) und dünnflüssigem gelblichem, übelriechendem Scheidenausfluss (Fluor vaginalis), in dem sich neben den Trichomonaden auch Bakterien und Eiterzellen finden. Damit ist oft ein Juckreiz in der Scheide verbunden. Bei drei Vierteln der Patientinnen ist die Harnröhre befallen. Infektionen der Gebärmutter und der Harnblase sind dagegen selten. Auch zeitweilige Unfruchtbarkeit wurde beobachtet. Trichomonaden können durch die mikroskopische Untersuchung eines Vaginalabstrichs festgestellt werden.\n",
    "Ein Befall mit Trichomonas vaginalis führt bei Mädchen und Frauen zu einer erhöhten Infizierbarkeit mit HIV. Der Erreger, der in der mobilen Form vom Aussehen her an eine Birne erinnert, greift das Epithel der Vagina an. Er macht sich platt und versucht, eine möglichst große Fläche zu bedecken. Danach bildet er Ausläufer aus, welche er ins Epithel bohrt und zapft dort Nährstoffe und Serum ab. Gleichzeitig scheidet er schädliche Proteine aus, die erstens zum Tod der schützenden Vaginalflora (hauptsächlich Milchsäure-Bakterien) und zweitens zu Mikro-Nekrosen in der Vaginalhaut führen, so dass winzige punktförmige Narben in ihr entstehen. Diese bilden dann die Pforte für HI-Viren. Da die Narben im Epithel ein Leben lang bestehen bleiben, bleibt eine erhöhte Infizierbarkeit erhalten, nachdem der Befall mit Trichomonas vaginalis erfolgreich bekämpft worden ist. Die Infizierbarkeit gilt in beide Richtungen. Betroffene stecken sich nicht nur leichter mit HIV an. Frauen, die HIV-positiv sind, werden dadurch auch infektiöser für ihre Partner. \n",
    "\"\"\""
   ]
  },
  {
   "cell_type": "markdown",
   "id": "29ad46e4-2949-40b1-b661-b2688b913105",
   "metadata": {},
   "source": [
    "https://it.wikipedia.org/wiki/Trichomoniasi_vaginale"
   ]
  },
  {
   "cell_type": "code",
   "execution_count": 5,
   "id": "b21226f9-5cd0-4cf4-8d40-661315fa4110",
   "metadata": {},
   "outputs": [],
   "source": [
    "sample_wiki_it = \"\"\"\n",
    "La trichomoniasi vaginale è una malattia infettiva, causata da parassiti del genere Trichomonas, la cui trasmissione avviene per via sessuale. Per quanto riguarda le donne, la sua incidenza diminuisce una volta raggiunta la menopausa; esse possono anche trasmettere il protozoo durante la gravidanza ai loro figli.\n",
    "Negli uomini sono soggette ad infezione uretra e prostata.\n",
    "\n",
    "Il genoma del Trichomonas, in quanto organismo eucariote, è similare, anche come quantità di geni, a quello umano.[1] \n",
    "\n",
    "La trichomoniasi vaginale è la più frequente infezione sessualmente trasmessa al mondo, in particolare nei Paesi del Terzo Mondo. I due terzi delle donne si infettano dopo un unico rapporto sessuale (si tratta di una malattia estremamente contagiosa). Il protozoo viene isolato nel 30-40% dei partner. \n",
    "\"\"\""
   ]
  },
  {
   "cell_type": "markdown",
   "id": "207e51f2-dc45-482c-89ef-0f8d0de0e4c7",
   "metadata": {},
   "source": [
    "https://fr.wikipedia.org/wiki/Trichomonase"
   ]
  },
  {
   "cell_type": "code",
   "execution_count": 6,
   "id": "d4f24d4a-d957-43f5-8c4f-369a0eed6c65",
   "metadata": {},
   "outputs": [],
   "source": [
    "sample_wiki_fr = \"\"\"\n",
    "La trichomonase ou trichomonose urogénitale est une maladie infectieuse causée par le parasite Trichomonas vaginalis.\n",
    "Environ 70 % des femmes et des hommes ne présentent aucun symptôme lorsqu'ils sont infectés. Lorsque les symptômes apparaissent, ils commencent généralement 5 à 28 jours après l'exposition. Les symptômes peuvent inclure des démangeaisons dans la région génitale, une mauvaise odeur de la sécrétion vaginale, des sensations de brûlure lors de la miction et une douleur lors des rapports sexuels.\n",
    "La trichomoniase est une infection sexuellement transmissible (IST) qui se transmet le plus souvent lors de relations sexuelles vaginales, orales ou anales. \n",
    "\"\"\""
   ]
  },
  {
   "cell_type": "markdown",
   "id": "9ed1ac14-9334-4156-b826-e7b160e901b4",
   "metadata": {},
   "source": [
    "https://www.who.int/news-room/fact-sheets/detail/trichomoniasis "
   ]
  },
  {
   "cell_type": "code",
   "execution_count": 7,
   "id": "d796c959-c4ce-43a1-bc66-12697eb1c3ab",
   "metadata": {},
   "outputs": [],
   "source": [
    "sample_inet_en_1 = \"\"\"\n",
    "Trichomonas vaginalis is a preventable and curable sexually transmitted protozoan that infects the urogenital tract.\n",
    "Although the majority of infections are asymptomatic, more than 50% of women with Trichomonas vaginalis infection have vaginal discharge and about 10% of men have urethritis.\n",
    "The parasite is transmitted during oral, vaginal and anal sex, and in some rare instances during delivery.\n",
    "Correct and consistent use of condoms during sex can prevent trichomoniasis.\n",
    "Most infections in men and women are asymptomatic. Symptomatic women can have vaginal discharge (yellow in colour), which may appear purulent. Other symptoms include a red and sore vagina. The person with the infection can also feel pain during intercourse and urination.\n",
    "When T. vaginalis is present, a yellow or greenish and possibly frothy discharge can be observed in the vagina during a speculum examination by a health provider\n",
    "Men are often asymptomatic, but some experience penile irritation and urethritis.\n",
    "\"\"\""
   ]
  },
  {
   "cell_type": "markdown",
   "id": "a67fb872-d76d-4eb1-9bf1-75e597eb80f8",
   "metadata": {},
   "source": [
    "https://www.mayoclinic.org/diseases-conditions/trichomoniasis/symptoms-causes/syc-20378609"
   ]
  },
  {
   "cell_type": "code",
   "execution_count": 8,
   "id": "407a6bea-637c-4cf8-a4a0-51eee0b74069",
   "metadata": {},
   "outputs": [],
   "source": [
    "sample_inet_en_2 = \"\"\"\n",
    "Trichomoniasis is a common sexually transmitted infection caused by a parasite. In women, trichomoniasis can cause a foul-smelling vaginal discharge, genital itching and painful urination.\n",
    "Men who have trichomoniasis typically have no symptoms. Pregnant women who have trichomoniasis might be at higher risk of delivering their babies prematurely.\n",
    "Treatment for trichomoniasis is taking an antibiotic — either metronidazole (Flagyl), tinidazole (Tindamax) or secnidazole (Solosec). To prevent being infected again, all sexual partners should be treated at the same time. You can reduce your risk of infection by using condoms correctly every time you have sex.\n",
    "\"\"\""
   ]
  },
  {
   "cell_type": "markdown",
   "id": "5353a543-b1fe-44c3-af21-1a9d36967116",
   "metadata": {},
   "source": [
    "https://my.clevelandclinic.org/health/diseases/4696-trichomoniasis"
   ]
  },
  {
   "cell_type": "code",
   "execution_count": 9,
   "id": "609bd66f-29ff-4b05-8fc6-2d2897ff8e7b",
   "metadata": {},
   "outputs": [],
   "source": [
    "sample_inet_en_3 = \"\"\"\n",
    "Trichomoniasis or “trich” is a common and curable sexually transmitted infection (STI). Trich spreads during sexual intercourse — in semen (cum) and vaginal fluids. Its name comes from the parasite Trichomonas vaginalis, which causes the infection.\n",
    "You may have trich and not know it — most people don’t have symptoms from the infection. Trich is contagious, which means you might unknowingly infect others through sexual contact.\n",
    "It’s the most common nonviral sexually transmitted infection globally. Anyone who has sex can get trich. Approximately 3.7 million people have the infection in the United States. Only about 30% of people have symptoms. Trichomoniasis is more common in Black women and people assigned female at birth (AFAB).\n",
    "Symptoms and Causes\n",
    "What are the symptoms of trichomoniasis?\n",
    "One reason trich spreads so easily is that a large number of infected people — up to 70% — never have symptoms. You may infect others before you know you have the disease. When symptoms occur, they tend to appear within five to 28 days after exposure. Symptoms are more common in women or people AFAB. Researchers aren’t entirely sure why some people have symptoms and others don’t.\n",
    "\"\"\""
   ]
  },
  {
   "cell_type": "markdown",
   "id": "343deeb3-710b-4eef-8733-536088773790",
   "metadata": {},
   "source": [
    "https://www.nhs.uk/conditions/trichomoniasis/"
   ]
  },
  {
   "cell_type": "code",
   "execution_count": 10,
   "id": "54cec5b4-4441-4f73-a2aa-1d8da71ccc8e",
   "metadata": {},
   "outputs": [],
   "source": [
    "sample_inet_en_4 = \"\"\"\n",
    "Trichomoniasis is a sexually transmitted infection (STI) caused by a parasite called Trichomonas vaginalis (TV).\n",
    "Symptoms of trichomoniasis\n",
    "\n",
    "Symptoms of trichomoniasis usually develop within a month of infection.\n",
    "\n",
    "But up to half of all people will not develop any symptoms (though they can still pass the infection on to others).\n",
    "\n",
    "The symptoms of trichomoniasis are similar to those of many other sexually transmitted infections (STIs), so it can sometimes be difficult to diagnose.\n",
    "Symptoms in women\n",
    "\n",
    "Trichomoniasis in women can cause:\n",
    "\n",
    "    abnormal vaginal discharge that may be thick, thin or frothy and yellow-green in colour\n",
    "    producing more discharge than normal, which may also have an unpleasant fishy smell\n",
    "    soreness, swelling and itching around the vagina – sometimes the inner thighs also become itchy\n",
    "    pain or discomfort when passing urine or having sex\n",
    "\n",
    "Symptoms in men\n",
    "\n",
    "Trichomoniasis in men can cause:\n",
    "\n",
    "    pain when peeing or during ejaculation\n",
    "    needing to pee more frequently than usual\n",
    "    thin, white discharge from the penis\n",
    "    soreness, swelling and redness around the head of the penis or foreskin\n",
    "\"\"\""
   ]
  },
  {
   "cell_type": "markdown",
   "id": "33f0c1e0-fc52-4836-866c-1d7f60a8a37c",
   "metadata": {},
   "source": [
    "https://www.womenshealth.gov/a-z-topics/trichomoniasis"
   ]
  },
  {
   "cell_type": "code",
   "execution_count": 38,
   "id": "16db3625-0674-40e9-a566-48ccf296b82d",
   "metadata": {},
   "outputs": [],
   "source": [
    "sample_inet_en_5 = \"\"\"\n",
    "What is trichomoniasis?\n",
    "Trichomoniasis is an STI caused by a parasite. It is one of the most common STIs in the United States.1\n",
    "Who gets trichomoniasis?\n",
    "Trichomoniasis is more common in women than men. It affects more than 2 million women ages 14 to 49 in the United States.2\n",
    "Trichomoniasis affects more African-American women than white and Hispanic women. The risk for African-American women goes up with age and lifetime number of sex partners.2\n",
    "How do you get trichomoniasis?\n",
    "Trichomoniasis is spread through:\n",
    "    Vaginal, oral, or anal sex. Trichomoniasis can be spread even if there are no symptoms. This means you can get trichomoniasis from someone who has no signs or symptoms.\n",
    "    Genital touching. A man does not need to ejaculate (come) for trichomoniasis to spread. Trichomoniasis can also be passed between women who have sex with women.\n",
    "What are the symptoms of trichomoniasis?\n",
    "Most infected women have no symptoms. If you do get symptoms, they might appear five to 28 days after exposure and can include:\n",
    "    Irritation and itching in the genital area\n",
    "    Thin or frothy discharge with an unusual foul odor that can be clear, white, yellowish, or greenish\n",
    "    Discomfort during sex and when urinating\n",
    "    Lower abdominal pain (this is rare)\n",
    "If you think you may have trichomoniasis, you and your sex partner(s) need to see a doctor or nurse as soon as possible.\n",
    "\"\"\""
   ]
  },
  {
   "cell_type": "markdown",
   "id": "9a9d50f8-6d5b-4dfd-8b51-0e70504bc1aa",
   "metadata": {},
   "source": [
    "#### negative samples"
   ]
  },
  {
   "cell_type": "markdown",
   "id": "69750f1d-5fdf-494c-adeb-c3e174c44abb",
   "metadata": {},
   "source": [
    "https://en.wikipedia.org/wiki/Diabetes"
   ]
  },
  {
   "cell_type": "code",
   "execution_count": 11,
   "id": "999d4094-05c4-4995-9f3a-f9a5a138b052",
   "metadata": {},
   "outputs": [],
   "source": [
    "sample_other_1 = \"\"\"\n",
    "Diabetes mellitus, often known simply as diabetes, is a group of common endocrine diseases characterized by sustained high blood sugar levels.[10][11] Diabetes is due to either the pancreas not producing enough insulin, or the cells of the body becoming unresponsive to the hormone's effects.[12] Classic symptoms include thirst, polyuria, weight loss, and blurred vision. If left untreated, the disease can lead to various health complications, including disorders of the cardiovascular system, eye, kidney, and nerves.[3] Diabetes accounts for approximately 4.2 million deaths every year,[9] with an estimated 1.5 million caused by either untreated or poorly treated diabetes.[10]\n",
    "The major types of diabetes are type 1 and type 2.[13] The most common treatment for type 1 is insulin replacement therapy (insulin injections), while anti-diabetic medications (such as metformin and semaglutide) and lifestyle modifications can be used to manage type 2. Gestational diabetes, a form that arises during pregnancy in some women, normally resolves shortly after delivery.\n",
    "As of 2021, an estimated 537 million people had diabetes worldwide accounting for 10.5% of the adult population, with type 2 making up about 90% of all cases. It is estimated that by 2045, approximately 783 million adults, or 1 in 8, will be living with diabetes, representing a 46% increase from the current figures.[14] The prevalence of the disease continues to increase, most dramatically in low- and middle-income nations.[15] Rates are similar in women and men, with diabetes being the seventh leading cause of death globally.[16][17] The global expenditure on diabetes-related healthcare is an estimated US$760 billion a year.[18] \n",
    "\"\"\""
   ]
  },
  {
   "cell_type": "markdown",
   "id": "93cf9684-b607-4da3-b1f8-1368a14ddf6f",
   "metadata": {},
   "source": [
    "https://en.wikipedia.org/wiki/Toyota_Corolla"
   ]
  },
  {
   "cell_type": "code",
   "execution_count": 12,
   "id": "0af49e4a-569f-4662-a46d-a28ffc176a1c",
   "metadata": {},
   "outputs": [],
   "source": [
    "sample_other_2 = \"\"\"\n",
    "The Toyota Corolla (Japanese: トヨタ・カローラ, Hepburn: Toyota Karōra) is a series of compact cars (formerly subcompact) manufactured and marketed globally by the Japanese automaker Toyota Motor Corporation. Introduced in 1966, the Corolla was the best-selling car worldwide by 1974 and has been one of the best-selling cars in the world since then. In 1997, the Corolla became the best-selling nameplate in the world, surpassing the Volkswagen Beetle.[1] Toyota reached the milestone of 50 million Corollas sold over twelve generations in 2021.[2]\n",
    "The name Corolla is part of Toyota's naming tradition of using names derived from the Toyota Crown for sedans, with \"corolla\" Latin for \"small crown\".[3] The Corolla has always been exclusive in Japan to Toyota Corolla Store locations, and manufactured in Japan with a twin, called the Toyota Sprinter until 2000. From 2006 to 2018 in Japan and much of the world, and from 2018 to 2020 in Taiwan, the hatchback companion had been called the Toyota Auris.\n",
    "Early models were mostly rear-wheel drive, while later models have been front-wheel drive. Four-wheel drive versions have also been produced, and it has undergone several major redesigns. The Corolla's traditional competitors have been the Nissan Sunny, introduced the same year as the Corolla in Japan and the later Nissan Sentra, Subaru Leone, Honda Civic and Mitsubishi Lancer. The Corolla's chassis designation code is \"E\", as described in Toyota's chassis and engine codes. \n",
    "\"\"\""
   ]
  },
  {
   "cell_type": "markdown",
   "id": "6e6f365a-fd18-4ad3-a555-4f5e50cf0df1",
   "metadata": {},
   "source": [
    "https://en.wikipedia.org/wiki/K-pop"
   ]
  },
  {
   "cell_type": "code",
   "execution_count": 13,
   "id": "16864c97-546d-4d08-8252-aa2966bf68bd",
   "metadata": {},
   "outputs": [],
   "source": [
    "sample_other_3 = \"\"\"\n",
    "K-pop (Korean: 케이팝; RR: keipap), short for Korean popular music,[1] is a form of popular music originating in South Korea as part of South Korean culture.[2] It includes styles and genres from around the world, such as pop, hip hop, R&B, rock, jazz, gospel, reggae, electronic dance, folk, country, disco, and classical on top of its traditional Korean music roots.[3] The term \"K-pop\" became popular in the 2000s, especially in the international context. The Korean term for domestic pop music is gayo (가요; 歌謠), which is still widely used within South Korea.[4][5] While \"K-pop\" can refer to all popular music or pop music from South Korea, it is colloquially often used in a narrower sense for any Korean music and artists associated with the entertainment and idol industry in the country, regardless of the genre.[contradictory]\n",
    "The more modern form of the genre, originally termed \"rap dance\", emerged with the formation of the hip hop boy band Seo Taiji and Boys, in 1992. Their experimentation with different styles and genres of music and integration of foreign musical elements helped reshape and modernize South Korea's contemporary music scene.[6]\n",
    "Modern K-pop \"idol\" culture began in the 1990s, as K-pop idol music grew into a subculture that amassed enormous fandoms of teenagers and young adults.[7][8] After a slump in early idol music, from 2003, TVXQ and BoA started a new generation of K-pop idols that broke the music genre into the neighboring Japanese market and continue to popularize K-pop internationally today.[9][10] With the advent of online social networking services and South Korean TV shows, the current spread of K-pop and South Korean entertainment, known as the Korean Wave, is seen not only in East Asia, but also throughout the world, gaining an international audience.\n",
    "In 2018, K-pop experienced significant growth and became a \"power player\", marking a 17.9% increase in revenue growth. As of 2019, Korean popular music is ranked at number six among the top ten music markets worldwide according to the International Federation of the Phonographic Industry's \"Global Music Report 2019\", with BTS and Blackpink cited as artists leading the market growth.[11] In 2020, K-pop experienced a record-breaking year when it experienced a 44.8% growth and positioned itself as the fastest-growing major market of the year.[12] \n",
    "\"\"\""
   ]
  },
  {
   "cell_type": "markdown",
   "id": "3069aa72-5768-423c-9a6f-d5e841565d34",
   "metadata": {},
   "source": [
    "https://en.wikipedia.org/wiki/Abdominal_pain"
   ]
  },
  {
   "cell_type": "code",
   "execution_count": 14,
   "id": "1caea281-61fe-424a-8a28-811eee187a0e",
   "metadata": {},
   "outputs": [],
   "source": [
    "sample_other_4 = \"\"\"\n",
    "Abdominal pain, also known as a stomach ache, is a symptom associated with both non-serious and serious medical issues. Since the abdomen contains most of the body's vital organs, it can be an indicator of a wide variety of diseases. Given that, approaching the examination of a person and planning of a differential diagnosis is extremely important.[3]\n",
    "Common causes of pain in the abdomen include gastroenteritis and irritable bowel syndrome.[2] About 15% of people have a more serious underlying condition such as appendicitis, leaking or ruptured abdominal aortic aneurysm, diverticulitis, or ectopic pregnancy.[2] In a third of cases, the exact cause is unclear.[2]\n",
    "The onset of abdominal pain can be abrupt, quick, or gradual. Sudden onset pain happens in a split second. Rapidly onset pain starts mild and gets worse over the next few minutes. Pain that gradually intensifies only after several hours or even days has passed is referred to as gradual onset pain.[4]\n",
    "One can describe abdominal pain as either continuous or sporadic and as cramping, dull, or aching. The characteristic of cramping abdominal pain is that it comes in brief waves, builds to a peak, and then abruptly stops for a period during which there is no more pain. The pain flares up and off periodically. The most common cause of persistent dull or aching abdominal pain is edema or distention of the wall of a hollow viscus. A dull or aching pain may also be felt due to a stretch in the liver and spleen capsules.[4] \n",
    "\"\"\""
   ]
  },
  {
   "cell_type": "markdown",
   "id": "686b27f0-3771-4d4a-97ff-44506d07773d",
   "metadata": {},
   "source": [
    "https://www.cdc.gov/chlamydia/about/index.html"
   ]
  },
  {
   "cell_type": "code",
   "execution_count": 15,
   "id": "aa903d28-42ae-4f6f-9369-1b996256a7bb",
   "metadata": {},
   "outputs": [],
   "source": [
    "sample_other_5 = \"\"\"\n",
    "What is chlamydia?\n",
    "\n",
    "Chlamydia is a common STI that can cause infection among men and women. It can cause permanent damage to a woman's reproductive system. This can make it difficult or impossible to get pregnant later. Chlamydia can also cause a potentially fatal ectopic pregnancy (pregnancy that occurs outside the womb).\n",
    "Signs and symptoms\n",
    "How do I know if I have chlamydia?\n",
    "Chlamydia often has no symptoms, but it can cause serious health problems, even without symptoms.\n",
    "\n",
    "Chlamydia often has no symptoms, but it can cause serious health problems, even without symptoms. If symptoms occur, they may not appear until several weeks after having sex with a partner who has chlamydia.\n",
    "Symptoms in women\n",
    "\n",
    "Even when chlamydia has no symptoms, it can damage a woman's reproductive system. Women with symptoms may notice:\n",
    "\n",
    "    An abnormal vaginal discharge\n",
    "    A burning sensation when peeing\n",
    "\n",
    "Symptoms in men\n",
    "\n",
    "Men with symptoms may notice:\n",
    "\n",
    "    A discharge from their penis\n",
    "    A burning sensation when peeing\n",
    "    Pain and swelling in one or both testicles (although this is less common)\n",
    "\n",
    "Symptoms from rectal infections\n",
    "\n",
    "Men and women can also get chlamydia in their rectum. This happens either by having receptive anal sex, or by spread from another infected site (such as the vagina). While these infections often cause no symptoms, they can cause:\n",
    "\n",
    "    Rectal pain\n",
    "    Discharge\n",
    "    Bleeding\n",
    "\n",
    "See your healthcare provider if you notice any of these symptoms. You should also see a provider if your partner has an STI or symptoms of one. Symptoms can include an unusual sore, a smelly discharge, burning when peeing, and bleeding between periods.\n",
    "\"\"\""
   ]
  },
  {
   "cell_type": "markdown",
   "id": "9afe24da-5376-4a55-adb5-5a79ec60663e",
   "metadata": {},
   "source": [
    "https://en.wikipedia.org/wiki/Harry_Potter"
   ]
  },
  {
   "cell_type": "code",
   "execution_count": 16,
   "id": "7464b0a4-a789-41b9-9998-f56f6b0b093b",
   "metadata": {},
   "outputs": [],
   "source": [
    "sample_other_6 = \"\"\"\n",
    "Harry Potter is a series of seven fantasy novels written by British author J. K. Rowling. The novels chronicle the lives of a young wizard, Harry Potter, and his friends, Hermione Granger and Ron Weasley, all of whom are students at Hogwarts School of Witchcraft and Wizardry. The main story arc concerns Harry's conflict with Lord Voldemort, a dark wizard who intends to become immortal, overthrow the wizard governing body known as the Ministry of Magic, and subjugate all wizards and Muggles (non-magical people).\n",
    "\n",
    "The series was originally published in English by Bloomsbury in the United Kingdom and Scholastic Press in the United States. A series of many genres, including fantasy, drama, coming-of-age fiction, and the British school story (which includes elements of mystery, thriller, adventure, horror, and romance), the world of Harry Potter explores numerous themes and includes many cultural meanings and references.[1] Major themes in the series include prejudice, corruption, madness, and death.[2][3]\n",
    "\n",
    "Since the release of the first novel, Harry Potter and the Philosopher's Stone, on 26 June 1997, the books have found immense popularity, positive reviews, and commercial success worldwide. They have attracted a wide adult audience as well as younger readers and are widely considered cornerstones of modern literature.[4][5] As of February 2023, the books have sold more than 600 million copies worldwide, making them the best-selling book series in history, and have been available in 85 languages.[6] The last four books consecutively set records as the fastest-selling books in history, with the final instalment selling roughly 2.7 million copies in the United Kingdom and 8.3 million copies in the United States within twenty-four hours of its release.\n",
    "\n",
    "Warner Bros. Pictures adapted the original seven books into an eight-part namesake film series. In 2016, the total value of the Harry Potter franchise was estimated at $25 billion,[7] making it one of the highest-grossing media franchises of all time. Harry Potter and the Cursed Child is a play based on a story co-written by Rowling.\n",
    "\n",
    "The success of the books and films has allowed the Harry Potter franchise to expand with numerous derivative works, a travelling exhibition that premiered in Chicago in 2009, a studio tour in London that opened in 2012, a digital platform on which J. K. Rowling updates the series with new information and insight, and a trilogy of spin-off films premiering in November 2016 with Fantastic Beasts and Where to Find Them, among many other developments. Themed attractions, collectively known as The Wizarding World of Harry Potter, have been built at several Universal Destinations & Experiences amusement parks around the world. \n",
    "\"\"\""
   ]
  },
  {
   "cell_type": "markdown",
   "id": "3c1ad4e1-f8dd-407a-a589-77a4339bd073",
   "metadata": {},
   "source": [
    "https://www.cdc.gov/syphilis/about/about-congenital-syphilis.html"
   ]
  },
  {
   "cell_type": "code",
   "execution_count": 27,
   "id": "372b673c-6891-49b4-8328-498b37b62ba1",
   "metadata": {},
   "outputs": [],
   "source": [
    "sample_other_7 = \"\"\"\n",
    "What it is\n",
    "\n",
    "Congenital syphilis (CS) occurs when people pass syphilis to their babies during pregnancy. Syphilis is an STI that can cause serious health problems without treatment.\n",
    "\n",
    "CS cases have more than tripled in recent years, with more than 3,700 cases reported in 2022 alone. This is the highest number reported in one year since 1994.\n",
    "Signs and symptoms\n",
    "How can CS affect my baby?\n",
    "\n",
    "CS can have major health impacts on your baby. How CS affects your baby's health depends on how long you had syphilis and if — or when — you got treatment for the infection.\n",
    "\n",
    "CS can cause\n",
    "\n",
    "    Miscarriage (losing the baby during pregnancy)\n",
    "    Stillbirth (a baby born dead)\n",
    "    Prematurity (a baby born early)\n",
    "    Low birth weight\n",
    "    Death shortly after birth\n",
    "\n",
    "Babies born to people with untreated syphilis may be stillborn or die from the infection as a newborn.\n",
    "\n",
    "Babies born with CS can have\n",
    "\n",
    "    Deformed bones\n",
    "    Severe anemia (low blood count)\n",
    "    Enlarged liver and spleen\n",
    "    Jaundice (yellowing of the skin or eyes)\n",
    "    Brain and nerve problems, like blindness or deafness\n",
    "    Meningitis\n",
    "    Skin rashes\n",
    "\"\"\""
   ]
  },
  {
   "cell_type": "markdown",
   "id": "9ef58c5a-381c-4c86-9ead-62f6f2d74c1e",
   "metadata": {},
   "source": [
    "## json"
   ]
  },
  {
   "cell_type": "code",
   "execution_count": 17,
   "id": "2f88f9c7-a6bd-44bd-9093-633149160b3a",
   "metadata": {},
   "outputs": [],
   "source": [
    "embed_request_model = 'mxbai-embed-large:335m'"
   ]
  },
  {
   "cell_type": "code",
   "execution_count": 39,
   "id": "196b9adb-f29f-4108-85f6-4eda1f033512",
   "metadata": {},
   "outputs": [],
   "source": [
    "embed_request_json = {\n",
    "    'model': embed_request_model,\n",
    "    'input': [\n",
    "        s.strip() for s in [\n",
    "            # positive samples\n",
    "            sample_wiki_en, \n",
    "            sample_wiki_es,\n",
    "            sample_wiki_de,\n",
    "            sample_wiki_it,\n",
    "            sample_wiki_fr,\n",
    "            sample_inet_en_1,\n",
    "            sample_inet_en_2,\n",
    "            sample_inet_en_3,\n",
    "            sample_inet_en_4,\n",
    "            sample_inet_en_5,\n",
    "            # negative samples\n",
    "            sample_other_1,\n",
    "            sample_other_2,\n",
    "            sample_other_3,\n",
    "            sample_other_4,\n",
    "            sample_other_5,\n",
    "            sample_other_6,\n",
    "            sample_other_7,\n",
    "        ]\n",
    "    ]\n",
    "}"
   ]
  },
  {
   "cell_type": "markdown",
   "id": "2f7228ef-cf82-4105-a9f7-a09f57d09110",
   "metadata": {},
   "source": [
    "## request"
   ]
  },
  {
   "cell_type": "code",
   "execution_count": 40,
   "id": "5cc0e7d3-0177-4d09-92b6-4781b247bd90",
   "metadata": {},
   "outputs": [],
   "source": [
    "embed_response = requests.post('http://localhost:11434/api/embed', json=embed_request_json)"
   ]
  },
  {
   "cell_type": "code",
   "execution_count": 41,
   "id": "95dd7bf4-f4d8-4d83-aca6-61a8d43069f0",
   "metadata": {},
   "outputs": [],
   "source": [
    "embed_response.raise_for_status()"
   ]
  },
  {
   "cell_type": "code",
   "execution_count": 42,
   "id": "69c487a8-e594-4fbd-9bd9-7216a9ef1636",
   "metadata": {},
   "outputs": [],
   "source": [
    "embed_response_json = embed_response.json()"
   ]
  },
  {
   "cell_type": "code",
   "execution_count": 43,
   "id": "3e6e4c7b-725f-49d3-b0c6-1e6bd25ec831",
   "metadata": {},
   "outputs": [],
   "source": [
    "embed_response_embeddings = np.array(embed_response_json['embeddings'])"
   ]
  },
  {
   "cell_type": "code",
   "execution_count": 44,
   "id": "859f6bf8-97d3-4568-9f16-79d81c6d0ce6",
   "metadata": {},
   "outputs": [
    {
     "data": {
      "text/plain": [
       "(17, 1024)"
      ]
     },
     "execution_count": 44,
     "metadata": {},
     "output_type": "execute_result"
    }
   ],
   "source": [
    "embed_response_embeddings.shape"
   ]
  },
  {
   "cell_type": "code",
   "execution_count": 45,
   "id": "d4ce9590-9cf1-4338-a6f5-fc02d58fb50e",
   "metadata": {},
   "outputs": [],
   "source": [
    "embed_response_matrix = scipy.spatial.distance_matrix(embed_response_embeddings, embed_response_embeddings)"
   ]
  },
  {
   "cell_type": "code",
   "execution_count": 48,
   "id": "bd31880e-10cc-4f3a-b469-424571b11266",
   "metadata": {},
   "outputs": [],
   "source": [
    "ig = px.imshow(embed_response_matrix, text_auto='.2f', width=1000, height=1000)"
   ]
  },
  {
   "cell_type": "code",
   "execution_count": 49,
   "id": "c1a0ca8c-a13e-4526-ba1e-83e825626dab",
   "metadata": {},
   "outputs": [
    {
     "data": {
      "application/vnd.plotly.v1+json": {
       "config": {
        "plotlyServerURL": "https://plot.ly"
       },
       "data": [
        {
         "coloraxis": "coloraxis",
         "hovertemplate": "x: %{x}<br>y: %{y}<br>color: %{z}<extra></extra>",
         "name": "0",
         "texttemplate": "%{z:.2f}",
         "type": "heatmap",
         "xaxis": "x",
         "yaxis": "y",
         "z": [
          [
           0,
           0.7126603897483619,
           0.750011427797987,
           0.7923780837187573,
           0.7510388701596326,
           0.5402930617456275,
           0.5504649689895305,
           0.5681627799012017,
           0.7703517869560756,
           0.5454420603068311,
           0.9739685697370282,
           1.1639887992059657,
           1.1767922355651308,
           1.0876677276167643,
           0.7477710270487274,
           1.1740225390104682,
           0.8963039247899132
          ],
          [
           0.7126603897483619,
           0,
           0.6510752584125654,
           0.5837219346046791,
           0.6473614082929161,
           0.6622412992219804,
           0.6868247305933902,
           0.7368116613172727,
           0.7744479750928164,
           0.7413700660762188,
           0.9937376796089227,
           1.1250845908886438,
           1.1688360504478779,
           1.0477256837325735,
           0.8903204796151166,
           1.1093731158298257,
           0.9266035938717221
          ],
          [
           0.750011427797987,
           0.6510752584125654,
           0,
           0.6951791939243486,
           0.7233939089360851,
           0.7087633309233292,
           0.7726788047735601,
           0.7942413816936535,
           0.8555079480921839,
           0.8099265686695178,
           1.0147202341526087,
           1.153463734667101,
           1.1753364327950384,
           1.0442530677956454,
           0.877473648763217,
           1.1135396621955933,
           0.9086527369163133
          ],
          [
           0.7923780837187573,
           0.5837219346046791,
           0.6951791939243486,
           0,
           0.7366574615927113,
           0.7524787071187365,
           0.7704523140703423,
           0.8281188354162714,
           0.858397917940289,
           0.8335036584134885,
           1.0284763267512682,
           1.1109143022322903,
           1.2088413989248177,
           1.1106497712600867,
           0.9545534301998775,
           1.1517468401021855,
           0.9512913934561519
          ],
          [
           0.7510388701596326,
           0.6473614082929161,
           0.7233939089360851,
           0.7366574615927113,
           0,
           0.7338286408917752,
           0.7388520625562449,
           0.7178454639514158,
           0.7378121732415067,
           0.7296572968775004,
           1.058358029529697,
           1.156765247233101,
           1.1699272590345213,
           1.010717189400699,
           0.9301308292606382,
           1.0600088434510637,
           0.9720853204835369
          ],
          [
           0.5402930617456275,
           0.6622412992219804,
           0.7087633309233292,
           0.7524787071187365,
           0.7338286408917752,
           0,
           0.565056577375255,
           0.5978323756775609,
           0.7239472539882644,
           0.5796017399386287,
           0.9905372411596118,
           1.1627270336533806,
           1.214487221261669,
           1.0694164330674516,
           0.7135292345666342,
           1.18232380987488,
           0.8627606188008151
          ],
          [
           0.5504649689895305,
           0.6868247305933902,
           0.7726788047735601,
           0.7704523140703423,
           0.7388520625562449,
           0.565056577375255,
           0,
           0.5861840963139877,
           0.7415507604721963,
           0.5673935640433883,
           0.9695713282700739,
           1.1549250059838077,
           1.2150544203562352,
           1.086246753437665,
           0.7285686575940556,
           1.1622115429106594,
           0.8501199470423235
          ],
          [
           0.5681627799012017,
           0.7368116613172727,
           0.7942413816936535,
           0.8281188354162714,
           0.7178454639514158,
           0.5978323756775609,
           0.5861840963139877,
           0,
           0.7447737785488274,
           0.382226124780471,
           0.9520357995469589,
           1.1338871532846482,
           1.125847800175611,
           1.0565113987761932,
           0.7549655396401488,
           1.1555430397015563,
           0.867076930926442
          ],
          [
           0.7703517869560756,
           0.7744479750928164,
           0.8555079480921839,
           0.858397917940289,
           0.7378121732415067,
           0.7239472539882644,
           0.7415507604721963,
           0.7447737785488274,
           0,
           0.7360728805207103,
           1.0531510480582635,
           1.170761520428161,
           1.2236669015336514,
           0.9443776165782453,
           0.8554921063908917,
           1.1124965848260702,
           0.9769857842074116
          ],
          [
           0.5454420603068311,
           0.7413700660762188,
           0.8099265686695178,
           0.8335036584134885,
           0.7296572968775004,
           0.5796017399386287,
           0.5673935640433883,
           0.382226124780471,
           0.7360728805207103,
           0,
           0.9873206628106439,
           1.1629580543603142,
           1.1646464014231106,
           1.0844513132320996,
           0.759381672859272,
           1.1744477856888347,
           0.8442349563237399
          ],
          [
           0.9739685697370282,
           0.9937376796089227,
           1.0147202341526087,
           1.0284763267512682,
           1.058358029529697,
           0.9905372411596118,
           0.9695713282700739,
           0.9520357995469589,
           1.0531510480582635,
           0.9873206628106439,
           0,
           1.0536648697421014,
           1.1106695909814002,
           1.0554223603000026,
           0.9717855292585114,
           1.1165756692587823,
           0.9933388572901164
          ],
          [
           1.1639887992059657,
           1.1250845908886438,
           1.153463734667101,
           1.1109143022322903,
           1.156765247233101,
           1.1627270336533806,
           1.1549250059838077,
           1.1338871532846482,
           1.170761520428161,
           1.1629580543603142,
           1.0536648697421014,
           0,
           1.0545144583943566,
           1.1774894159692666,
           1.142593882613122,
           1.1414063938016479,
           1.1190306212909755
          ],
          [
           1.1767922355651308,
           1.1688360504478779,
           1.1753364327950384,
           1.2088413989248177,
           1.1699272590345213,
           1.214487221261669,
           1.2150544203562352,
           1.125847800175611,
           1.2236669015336514,
           1.1646464014231106,
           1.1106695909814002,
           1.0545144583943566,
           0,
           1.1319940665269534,
           1.2263980845921885,
           1.1172668607481524,
           1.1661125203180864
          ],
          [
           1.0876677276167643,
           1.0477256837325735,
           1.0442530677956454,
           1.1106497712600867,
           1.010717189400699,
           1.0694164330674516,
           1.086246753437665,
           1.0565113987761932,
           0.9443776165782453,
           1.0844513132320996,
           1.0554223603000026,
           1.1774894159692666,
           1.1319940665269534,
           0,
           1.0437318255180976,
           1.0791559216915851,
           1.1097864253484766
          ],
          [
           0.7477710270487274,
           0.8903204796151166,
           0.877473648763217,
           0.9545534301998775,
           0.9301308292606382,
           0.7135292345666342,
           0.7285686575940556,
           0.7549655396401488,
           0.8554921063908917,
           0.759381672859272,
           0.9717855292585114,
           1.142593882613122,
           1.2263980845921885,
           1.0437318255180976,
           0,
           1.1929218773697239,
           0.8096820448991019
          ],
          [
           1.1740225390104682,
           1.1093731158298257,
           1.1135396621955933,
           1.1517468401021855,
           1.0600088434510637,
           1.18232380987488,
           1.1622115429106594,
           1.1555430397015563,
           1.1124965848260702,
           1.1744477856888347,
           1.1165756692587823,
           1.1414063938016479,
           1.1172668607481524,
           1.0791559216915851,
           1.1929218773697239,
           0,
           1.089357984133385
          ],
          [
           0.8963039247899132,
           0.9266035938717221,
           0.9086527369163133,
           0.9512913934561519,
           0.9720853204835369,
           0.8627606188008151,
           0.8501199470423235,
           0.867076930926442,
           0.9769857842074116,
           0.8442349563237399,
           0.9933388572901164,
           1.1190306212909755,
           1.1661125203180864,
           1.1097864253484766,
           0.8096820448991019,
           1.089357984133385,
           0
          ]
         ]
        }
       ],
       "layout": {
        "coloraxis": {
         "colorscale": [
          [
           0,
           "#0d0887"
          ],
          [
           0.1111111111111111,
           "#46039f"
          ],
          [
           0.2222222222222222,
           "#7201a8"
          ],
          [
           0.3333333333333333,
           "#9c179e"
          ],
          [
           0.4444444444444444,
           "#bd3786"
          ],
          [
           0.5555555555555556,
           "#d8576b"
          ],
          [
           0.6666666666666666,
           "#ed7953"
          ],
          [
           0.7777777777777778,
           "#fb9f3a"
          ],
          [
           0.8888888888888888,
           "#fdca26"
          ],
          [
           1,
           "#f0f921"
          ]
         ]
        },
        "height": 1000,
        "margin": {
         "t": 60
        },
        "template": {
         "data": {
          "bar": [
           {
            "error_x": {
             "color": "#2a3f5f"
            },
            "error_y": {
             "color": "#2a3f5f"
            },
            "marker": {
             "line": {
              "color": "#E5ECF6",
              "width": 0.5
             },
             "pattern": {
              "fillmode": "overlay",
              "size": 10,
              "solidity": 0.2
             }
            },
            "type": "bar"
           }
          ],
          "barpolar": [
           {
            "marker": {
             "line": {
              "color": "#E5ECF6",
              "width": 0.5
             },
             "pattern": {
              "fillmode": "overlay",
              "size": 10,
              "solidity": 0.2
             }
            },
            "type": "barpolar"
           }
          ],
          "carpet": [
           {
            "aaxis": {
             "endlinecolor": "#2a3f5f",
             "gridcolor": "white",
             "linecolor": "white",
             "minorgridcolor": "white",
             "startlinecolor": "#2a3f5f"
            },
            "baxis": {
             "endlinecolor": "#2a3f5f",
             "gridcolor": "white",
             "linecolor": "white",
             "minorgridcolor": "white",
             "startlinecolor": "#2a3f5f"
            },
            "type": "carpet"
           }
          ],
          "choropleth": [
           {
            "colorbar": {
             "outlinewidth": 0,
             "ticks": ""
            },
            "type": "choropleth"
           }
          ],
          "contour": [
           {
            "colorbar": {
             "outlinewidth": 0,
             "ticks": ""
            },
            "colorscale": [
             [
              0,
              "#0d0887"
             ],
             [
              0.1111111111111111,
              "#46039f"
             ],
             [
              0.2222222222222222,
              "#7201a8"
             ],
             [
              0.3333333333333333,
              "#9c179e"
             ],
             [
              0.4444444444444444,
              "#bd3786"
             ],
             [
              0.5555555555555556,
              "#d8576b"
             ],
             [
              0.6666666666666666,
              "#ed7953"
             ],
             [
              0.7777777777777778,
              "#fb9f3a"
             ],
             [
              0.8888888888888888,
              "#fdca26"
             ],
             [
              1,
              "#f0f921"
             ]
            ],
            "type": "contour"
           }
          ],
          "contourcarpet": [
           {
            "colorbar": {
             "outlinewidth": 0,
             "ticks": ""
            },
            "type": "contourcarpet"
           }
          ],
          "heatmap": [
           {
            "colorbar": {
             "outlinewidth": 0,
             "ticks": ""
            },
            "colorscale": [
             [
              0,
              "#0d0887"
             ],
             [
              0.1111111111111111,
              "#46039f"
             ],
             [
              0.2222222222222222,
              "#7201a8"
             ],
             [
              0.3333333333333333,
              "#9c179e"
             ],
             [
              0.4444444444444444,
              "#bd3786"
             ],
             [
              0.5555555555555556,
              "#d8576b"
             ],
             [
              0.6666666666666666,
              "#ed7953"
             ],
             [
              0.7777777777777778,
              "#fb9f3a"
             ],
             [
              0.8888888888888888,
              "#fdca26"
             ],
             [
              1,
              "#f0f921"
             ]
            ],
            "type": "heatmap"
           }
          ],
          "heatmapgl": [
           {
            "colorbar": {
             "outlinewidth": 0,
             "ticks": ""
            },
            "colorscale": [
             [
              0,
              "#0d0887"
             ],
             [
              0.1111111111111111,
              "#46039f"
             ],
             [
              0.2222222222222222,
              "#7201a8"
             ],
             [
              0.3333333333333333,
              "#9c179e"
             ],
             [
              0.4444444444444444,
              "#bd3786"
             ],
             [
              0.5555555555555556,
              "#d8576b"
             ],
             [
              0.6666666666666666,
              "#ed7953"
             ],
             [
              0.7777777777777778,
              "#fb9f3a"
             ],
             [
              0.8888888888888888,
              "#fdca26"
             ],
             [
              1,
              "#f0f921"
             ]
            ],
            "type": "heatmapgl"
           }
          ],
          "histogram": [
           {
            "marker": {
             "pattern": {
              "fillmode": "overlay",
              "size": 10,
              "solidity": 0.2
             }
            },
            "type": "histogram"
           }
          ],
          "histogram2d": [
           {
            "colorbar": {
             "outlinewidth": 0,
             "ticks": ""
            },
            "colorscale": [
             [
              0,
              "#0d0887"
             ],
             [
              0.1111111111111111,
              "#46039f"
             ],
             [
              0.2222222222222222,
              "#7201a8"
             ],
             [
              0.3333333333333333,
              "#9c179e"
             ],
             [
              0.4444444444444444,
              "#bd3786"
             ],
             [
              0.5555555555555556,
              "#d8576b"
             ],
             [
              0.6666666666666666,
              "#ed7953"
             ],
             [
              0.7777777777777778,
              "#fb9f3a"
             ],
             [
              0.8888888888888888,
              "#fdca26"
             ],
             [
              1,
              "#f0f921"
             ]
            ],
            "type": "histogram2d"
           }
          ],
          "histogram2dcontour": [
           {
            "colorbar": {
             "outlinewidth": 0,
             "ticks": ""
            },
            "colorscale": [
             [
              0,
              "#0d0887"
             ],
             [
              0.1111111111111111,
              "#46039f"
             ],
             [
              0.2222222222222222,
              "#7201a8"
             ],
             [
              0.3333333333333333,
              "#9c179e"
             ],
             [
              0.4444444444444444,
              "#bd3786"
             ],
             [
              0.5555555555555556,
              "#d8576b"
             ],
             [
              0.6666666666666666,
              "#ed7953"
             ],
             [
              0.7777777777777778,
              "#fb9f3a"
             ],
             [
              0.8888888888888888,
              "#fdca26"
             ],
             [
              1,
              "#f0f921"
             ]
            ],
            "type": "histogram2dcontour"
           }
          ],
          "mesh3d": [
           {
            "colorbar": {
             "outlinewidth": 0,
             "ticks": ""
            },
            "type": "mesh3d"
           }
          ],
          "parcoords": [
           {
            "line": {
             "colorbar": {
              "outlinewidth": 0,
              "ticks": ""
             }
            },
            "type": "parcoords"
           }
          ],
          "pie": [
           {
            "automargin": true,
            "type": "pie"
           }
          ],
          "scatter": [
           {
            "fillpattern": {
             "fillmode": "overlay",
             "size": 10,
             "solidity": 0.2
            },
            "type": "scatter"
           }
          ],
          "scatter3d": [
           {
            "line": {
             "colorbar": {
              "outlinewidth": 0,
              "ticks": ""
             }
            },
            "marker": {
             "colorbar": {
              "outlinewidth": 0,
              "ticks": ""
             }
            },
            "type": "scatter3d"
           }
          ],
          "scattercarpet": [
           {
            "marker": {
             "colorbar": {
              "outlinewidth": 0,
              "ticks": ""
             }
            },
            "type": "scattercarpet"
           }
          ],
          "scattergeo": [
           {
            "marker": {
             "colorbar": {
              "outlinewidth": 0,
              "ticks": ""
             }
            },
            "type": "scattergeo"
           }
          ],
          "scattergl": [
           {
            "marker": {
             "colorbar": {
              "outlinewidth": 0,
              "ticks": ""
             }
            },
            "type": "scattergl"
           }
          ],
          "scattermapbox": [
           {
            "marker": {
             "colorbar": {
              "outlinewidth": 0,
              "ticks": ""
             }
            },
            "type": "scattermapbox"
           }
          ],
          "scatterpolar": [
           {
            "marker": {
             "colorbar": {
              "outlinewidth": 0,
              "ticks": ""
             }
            },
            "type": "scatterpolar"
           }
          ],
          "scatterpolargl": [
           {
            "marker": {
             "colorbar": {
              "outlinewidth": 0,
              "ticks": ""
             }
            },
            "type": "scatterpolargl"
           }
          ],
          "scatterternary": [
           {
            "marker": {
             "colorbar": {
              "outlinewidth": 0,
              "ticks": ""
             }
            },
            "type": "scatterternary"
           }
          ],
          "surface": [
           {
            "colorbar": {
             "outlinewidth": 0,
             "ticks": ""
            },
            "colorscale": [
             [
              0,
              "#0d0887"
             ],
             [
              0.1111111111111111,
              "#46039f"
             ],
             [
              0.2222222222222222,
              "#7201a8"
             ],
             [
              0.3333333333333333,
              "#9c179e"
             ],
             [
              0.4444444444444444,
              "#bd3786"
             ],
             [
              0.5555555555555556,
              "#d8576b"
             ],
             [
              0.6666666666666666,
              "#ed7953"
             ],
             [
              0.7777777777777778,
              "#fb9f3a"
             ],
             [
              0.8888888888888888,
              "#fdca26"
             ],
             [
              1,
              "#f0f921"
             ]
            ],
            "type": "surface"
           }
          ],
          "table": [
           {
            "cells": {
             "fill": {
              "color": "#EBF0F8"
             },
             "line": {
              "color": "white"
             }
            },
            "header": {
             "fill": {
              "color": "#C8D4E3"
             },
             "line": {
              "color": "white"
             }
            },
            "type": "table"
           }
          ]
         },
         "layout": {
          "annotationdefaults": {
           "arrowcolor": "#2a3f5f",
           "arrowhead": 0,
           "arrowwidth": 1
          },
          "autotypenumbers": "strict",
          "coloraxis": {
           "colorbar": {
            "outlinewidth": 0,
            "ticks": ""
           }
          },
          "colorscale": {
           "diverging": [
            [
             0,
             "#8e0152"
            ],
            [
             0.1,
             "#c51b7d"
            ],
            [
             0.2,
             "#de77ae"
            ],
            [
             0.3,
             "#f1b6da"
            ],
            [
             0.4,
             "#fde0ef"
            ],
            [
             0.5,
             "#f7f7f7"
            ],
            [
             0.6,
             "#e6f5d0"
            ],
            [
             0.7,
             "#b8e186"
            ],
            [
             0.8,
             "#7fbc41"
            ],
            [
             0.9,
             "#4d9221"
            ],
            [
             1,
             "#276419"
            ]
           ],
           "sequential": [
            [
             0,
             "#0d0887"
            ],
            [
             0.1111111111111111,
             "#46039f"
            ],
            [
             0.2222222222222222,
             "#7201a8"
            ],
            [
             0.3333333333333333,
             "#9c179e"
            ],
            [
             0.4444444444444444,
             "#bd3786"
            ],
            [
             0.5555555555555556,
             "#d8576b"
            ],
            [
             0.6666666666666666,
             "#ed7953"
            ],
            [
             0.7777777777777778,
             "#fb9f3a"
            ],
            [
             0.8888888888888888,
             "#fdca26"
            ],
            [
             1,
             "#f0f921"
            ]
           ],
           "sequentialminus": [
            [
             0,
             "#0d0887"
            ],
            [
             0.1111111111111111,
             "#46039f"
            ],
            [
             0.2222222222222222,
             "#7201a8"
            ],
            [
             0.3333333333333333,
             "#9c179e"
            ],
            [
             0.4444444444444444,
             "#bd3786"
            ],
            [
             0.5555555555555556,
             "#d8576b"
            ],
            [
             0.6666666666666666,
             "#ed7953"
            ],
            [
             0.7777777777777778,
             "#fb9f3a"
            ],
            [
             0.8888888888888888,
             "#fdca26"
            ],
            [
             1,
             "#f0f921"
            ]
           ]
          },
          "colorway": [
           "#636efa",
           "#EF553B",
           "#00cc96",
           "#ab63fa",
           "#FFA15A",
           "#19d3f3",
           "#FF6692",
           "#B6E880",
           "#FF97FF",
           "#FECB52"
          ],
          "font": {
           "color": "#2a3f5f"
          },
          "geo": {
           "bgcolor": "white",
           "lakecolor": "white",
           "landcolor": "#E5ECF6",
           "showlakes": true,
           "showland": true,
           "subunitcolor": "white"
          },
          "hoverlabel": {
           "align": "left"
          },
          "hovermode": "closest",
          "mapbox": {
           "style": "light"
          },
          "paper_bgcolor": "white",
          "plot_bgcolor": "#E5ECF6",
          "polar": {
           "angularaxis": {
            "gridcolor": "white",
            "linecolor": "white",
            "ticks": ""
           },
           "bgcolor": "#E5ECF6",
           "radialaxis": {
            "gridcolor": "white",
            "linecolor": "white",
            "ticks": ""
           }
          },
          "scene": {
           "xaxis": {
            "backgroundcolor": "#E5ECF6",
            "gridcolor": "white",
            "gridwidth": 2,
            "linecolor": "white",
            "showbackground": true,
            "ticks": "",
            "zerolinecolor": "white"
           },
           "yaxis": {
            "backgroundcolor": "#E5ECF6",
            "gridcolor": "white",
            "gridwidth": 2,
            "linecolor": "white",
            "showbackground": true,
            "ticks": "",
            "zerolinecolor": "white"
           },
           "zaxis": {
            "backgroundcolor": "#E5ECF6",
            "gridcolor": "white",
            "gridwidth": 2,
            "linecolor": "white",
            "showbackground": true,
            "ticks": "",
            "zerolinecolor": "white"
           }
          },
          "shapedefaults": {
           "line": {
            "color": "#2a3f5f"
           }
          },
          "ternary": {
           "aaxis": {
            "gridcolor": "white",
            "linecolor": "white",
            "ticks": ""
           },
           "baxis": {
            "gridcolor": "white",
            "linecolor": "white",
            "ticks": ""
           },
           "bgcolor": "#E5ECF6",
           "caxis": {
            "gridcolor": "white",
            "linecolor": "white",
            "ticks": ""
           }
          },
          "title": {
           "x": 0.05
          },
          "xaxis": {
           "automargin": true,
           "gridcolor": "white",
           "linecolor": "white",
           "ticks": "",
           "title": {
            "standoff": 15
           },
           "zerolinecolor": "white",
           "zerolinewidth": 2
          },
          "yaxis": {
           "automargin": true,
           "gridcolor": "white",
           "linecolor": "white",
           "ticks": "",
           "title": {
            "standoff": 15
           },
           "zerolinecolor": "white",
           "zerolinewidth": 2
          }
         }
        },
        "width": 1000,
        "xaxis": {
         "anchor": "y",
         "autorange": true,
         "constrain": "domain",
         "domain": [
          0,
          1
         ],
         "range": [
          -0.5,
          16.5
         ],
         "scaleanchor": "y"
        },
        "yaxis": {
         "anchor": "x",
         "autorange": true,
         "constrain": "domain",
         "domain": [
          0.021511627906976694,
          0.9784883720930233
         ],
         "range": [
          16.5,
          -0.5
         ]
        }
       }
      },
      "image/png": "[encoded data removed]",
      "text/html": [
       "<div>                            <div id=\"def81e37-1ff6-4d93-b2d5-55f0d7a8bed6\" class=\"plotly-graph-div\" style=\"height:1000px; width:1000px;\"></div>            <script type=\"text/javascript\">                require([\"plotly\"], function(Plotly) {                    window.PLOTLYENV=window.PLOTLYENV || {};                                    if (document.getElementById(\"def81e37-1ff6-4d93-b2d5-55f0d7a8bed6\")) {                    Plotly.newPlot(                        \"def81e37-1ff6-4d93-b2d5-55f0d7a8bed6\",                        [{\"coloraxis\":\"coloraxis\",\"name\":\"0\",\"texttemplate\":\"%{z:.2f}\",\"z\":[[0.0,0.7126603897483619,0.750011427797987,0.7923780837187573,0.7510388701596326,0.5402930617456275,0.5504649689895305,0.5681627799012017,0.7703517869560756,0.5454420603068311,0.9739685697370282,1.1639887992059657,1.1767922355651308,1.0876677276167643,0.7477710270487274,1.1740225390104682,0.8963039247899132],[0.7126603897483619,0.0,0.6510752584125654,0.5837219346046791,0.6473614082929161,0.6622412992219804,0.6868247305933902,0.7368116613172727,0.7744479750928164,0.7413700660762188,0.9937376796089227,1.1250845908886438,1.1688360504478779,1.0477256837325735,0.8903204796151166,1.1093731158298257,0.9266035938717221],[0.750011427797987,0.6510752584125654,0.0,0.6951791939243486,0.7233939089360851,0.7087633309233292,0.7726788047735601,0.7942413816936535,0.8555079480921839,0.8099265686695178,1.0147202341526087,1.153463734667101,1.1753364327950384,1.0442530677956454,0.877473648763217,1.1135396621955933,0.9086527369163133],[0.7923780837187573,0.5837219346046791,0.6951791939243486,0.0,0.7366574615927113,0.7524787071187365,0.7704523140703423,0.8281188354162714,0.858397917940289,0.8335036584134885,1.0284763267512682,1.1109143022322903,1.2088413989248177,1.1106497712600867,0.9545534301998775,1.1517468401021855,0.9512913934561519],[0.7510388701596326,0.6473614082929161,0.7233939089360851,0.7366574615927113,0.0,0.7338286408917752,0.7388520625562449,0.7178454639514158,0.7378121732415067,0.7296572968775004,1.058358029529697,1.156765247233101,1.1699272590345213,1.010717189400699,0.9301308292606382,1.0600088434510637,0.9720853204835369],[0.5402930617456275,0.6622412992219804,0.7087633309233292,0.7524787071187365,0.7338286408917752,0.0,0.565056577375255,0.5978323756775609,0.7239472539882644,0.5796017399386287,0.9905372411596118,1.1627270336533806,1.214487221261669,1.0694164330674516,0.7135292345666342,1.18232380987488,0.8627606188008151],[0.5504649689895305,0.6868247305933902,0.7726788047735601,0.7704523140703423,0.7388520625562449,0.565056577375255,0.0,0.5861840963139877,0.7415507604721963,0.5673935640433883,0.9695713282700739,1.1549250059838077,1.2150544203562352,1.086246753437665,0.7285686575940556,1.1622115429106594,0.8501199470423235],[0.5681627799012017,0.7368116613172727,0.7942413816936535,0.8281188354162714,0.7178454639514158,0.5978323756775609,0.5861840963139877,0.0,0.7447737785488274,0.382226124780471,0.9520357995469589,1.1338871532846482,1.125847800175611,1.0565113987761932,0.7549655396401488,1.1555430397015563,0.867076930926442],[0.7703517869560756,0.7744479750928164,0.8555079480921839,0.858397917940289,0.7378121732415067,0.7239472539882644,0.7415507604721963,0.7447737785488274,0.0,0.7360728805207103,1.0531510480582635,1.170761520428161,1.2236669015336514,0.9443776165782453,0.8554921063908917,1.1124965848260702,0.9769857842074116],[0.5454420603068311,0.7413700660762188,0.8099265686695178,0.8335036584134885,0.7296572968775004,0.5796017399386287,0.5673935640433883,0.382226124780471,0.7360728805207103,0.0,0.9873206628106439,1.1629580543603142,1.1646464014231106,1.0844513132320996,0.759381672859272,1.1744477856888347,0.8442349563237399],[0.9739685697370282,0.9937376796089227,1.0147202341526087,1.0284763267512682,1.058358029529697,0.9905372411596118,0.9695713282700739,0.9520357995469589,1.0531510480582635,0.9873206628106439,0.0,1.0536648697421014,1.1106695909814002,1.0554223603000026,0.9717855292585114,1.1165756692587823,0.9933388572901164],[1.1639887992059657,1.1250845908886438,1.153463734667101,1.1109143022322903,1.156765247233101,1.1627270336533806,1.1549250059838077,1.1338871532846482,1.170761520428161,1.1629580543603142,1.0536648697421014,0.0,1.0545144583943566,1.1774894159692666,1.142593882613122,1.1414063938016479,1.1190306212909755],[1.1767922355651308,1.1688360504478779,1.1753364327950384,1.2088413989248177,1.1699272590345213,1.214487221261669,1.2150544203562352,1.125847800175611,1.2236669015336514,1.1646464014231106,1.1106695909814002,1.0545144583943566,0.0,1.1319940665269534,1.2263980845921885,1.1172668607481524,1.1661125203180864],[1.0876677276167643,1.0477256837325735,1.0442530677956454,1.1106497712600867,1.010717189400699,1.0694164330674516,1.086246753437665,1.0565113987761932,0.9443776165782453,1.0844513132320996,1.0554223603000026,1.1774894159692666,1.1319940665269534,0.0,1.0437318255180976,1.0791559216915851,1.1097864253484766],[0.7477710270487274,0.8903204796151166,0.877473648763217,0.9545534301998775,0.9301308292606382,0.7135292345666342,0.7285686575940556,0.7549655396401488,0.8554921063908917,0.759381672859272,0.9717855292585114,1.142593882613122,1.2263980845921885,1.0437318255180976,0.0,1.1929218773697239,0.8096820448991019],[1.1740225390104682,1.1093731158298257,1.1135396621955933,1.1517468401021855,1.0600088434510637,1.18232380987488,1.1622115429106594,1.1555430397015563,1.1124965848260702,1.1744477856888347,1.1165756692587823,1.1414063938016479,1.1172668607481524,1.0791559216915851,1.1929218773697239,0.0,1.089357984133385],[0.8963039247899132,0.9266035938717221,0.9086527369163133,0.9512913934561519,0.9720853204835369,0.8627606188008151,0.8501199470423235,0.867076930926442,0.9769857842074116,0.8442349563237399,0.9933388572901164,1.1190306212909755,1.1661125203180864,1.1097864253484766,0.8096820448991019,1.089357984133385,0.0]],\"type\":\"heatmap\",\"xaxis\":\"x\",\"yaxis\":\"y\",\"hovertemplate\":\"x: %{x}\\u003cbr\\u003ey: %{y}\\u003cbr\\u003ecolor: %{z}\\u003cextra\\u003e\\u003c\\u002fextra\\u003e\"}],                        {\"template\":{\"data\":{\"histogram2dcontour\":[{\"type\":\"histogram2dcontour\",\"colorbar\":{\"outlinewidth\":0,\"ticks\":\"\"},\"colorscale\":[[0.0,\"#0d0887\"],[0.1111111111111111,\"#46039f\"],[0.2222222222222222,\"#7201a8\"],[0.3333333333333333,\"#9c179e\"],[0.4444444444444444,\"#bd3786\"],[0.5555555555555556,\"#d8576b\"],[0.6666666666666666,\"#ed7953\"],[0.7777777777777778,\"#fb9f3a\"],[0.8888888888888888,\"#fdca26\"],[1.0,\"#f0f921\"]]}],\"choropleth\":[{\"type\":\"choropleth\",\"colorbar\":{\"outlinewidth\":0,\"ticks\":\"\"}}],\"histogram2d\":[{\"type\":\"histogram2d\",\"colorbar\":{\"outlinewidth\":0,\"ticks\":\"\"},\"colorscale\":[[0.0,\"#0d0887\"],[0.1111111111111111,\"#46039f\"],[0.2222222222222222,\"#7201a8\"],[0.3333333333333333,\"#9c179e\"],[0.4444444444444444,\"#bd3786\"],[0.5555555555555556,\"#d8576b\"],[0.6666666666666666,\"#ed7953\"],[0.7777777777777778,\"#fb9f3a\"],[0.8888888888888888,\"#fdca26\"],[1.0,\"#f0f921\"]]}],\"heatmap\":[{\"type\":\"heatmap\",\"colorbar\":{\"outlinewidth\":0,\"ticks\":\"\"},\"colorscale\":[[0.0,\"#0d0887\"],[0.1111111111111111,\"#46039f\"],[0.2222222222222222,\"#7201a8\"],[0.3333333333333333,\"#9c179e\"],[0.4444444444444444,\"#bd3786\"],[0.5555555555555556,\"#d8576b\"],[0.6666666666666666,\"#ed7953\"],[0.7777777777777778,\"#fb9f3a\"],[0.8888888888888888,\"#fdca26\"],[1.0,\"#f0f921\"]]}],\"heatmapgl\":[{\"type\":\"heatmapgl\",\"colorbar\":{\"outlinewidth\":0,\"ticks\":\"\"},\"colorscale\":[[0.0,\"#0d0887\"],[0.1111111111111111,\"#46039f\"],[0.2222222222222222,\"#7201a8\"],[0.3333333333333333,\"#9c179e\"],[0.4444444444444444,\"#bd3786\"],[0.5555555555555556,\"#d8576b\"],[0.6666666666666666,\"#ed7953\"],[0.7777777777777778,\"#fb9f3a\"],[0.8888888888888888,\"#fdca26\"],[1.0,\"#f0f921\"]]}],\"contourcarpet\":[{\"type\":\"contourcarpet\",\"colorbar\":{\"outlinewidth\":0,\"ticks\":\"\"}}],\"contour\":[{\"type\":\"contour\",\"colorbar\":{\"outlinewidth\":0,\"ticks\":\"\"},\"colorscale\":[[0.0,\"#0d0887\"],[0.1111111111111111,\"#46039f\"],[0.2222222222222222,\"#7201a8\"],[0.3333333333333333,\"#9c179e\"],[0.4444444444444444,\"#bd3786\"],[0.5555555555555556,\"#d8576b\"],[0.6666666666666666,\"#ed7953\"],[0.7777777777777778,\"#fb9f3a\"],[0.8888888888888888,\"#fdca26\"],[1.0,\"#f0f921\"]]}],\"surface\":[{\"type\":\"surface\",\"colorbar\":{\"outlinewidth\":0,\"ticks\":\"\"},\"colorscale\":[[0.0,\"#0d0887\"],[0.1111111111111111,\"#46039f\"],[0.2222222222222222,\"#7201a8\"],[0.3333333333333333,\"#9c179e\"],[0.4444444444444444,\"#bd3786\"],[0.5555555555555556,\"#d8576b\"],[0.6666666666666666,\"#ed7953\"],[0.7777777777777778,\"#fb9f3a\"],[0.8888888888888888,\"#fdca26\"],[1.0,\"#f0f921\"]]}],\"mesh3d\":[{\"type\":\"mesh3d\",\"colorbar\":{\"outlinewidth\":0,\"ticks\":\"\"}}],\"scatter\":[{\"fillpattern\":{\"fillmode\":\"overlay\",\"size\":10,\"solidity\":0.2},\"type\":\"scatter\"}],\"parcoords\":[{\"type\":\"parcoords\",\"line\":{\"colorbar\":{\"outlinewidth\":0,\"ticks\":\"\"}}}],\"scatterpolargl\":[{\"type\":\"scatterpolargl\",\"marker\":{\"colorbar\":{\"outlinewidth\":0,\"ticks\":\"\"}}}],\"bar\":[{\"error_x\":{\"color\":\"#2a3f5f\"},\"error_y\":{\"color\":\"#2a3f5f\"},\"marker\":{\"line\":{\"color\":\"#E5ECF6\",\"width\":0.5},\"pattern\":{\"fillmode\":\"overlay\",\"size\":10,\"solidity\":0.2}},\"type\":\"bar\"}],\"scattergeo\":[{\"type\":\"scattergeo\",\"marker\":{\"colorbar\":{\"outlinewidth\":0,\"ticks\":\"\"}}}],\"scatterpolar\":[{\"type\":\"scatterpolar\",\"marker\":{\"colorbar\":{\"outlinewidth\":0,\"ticks\":\"\"}}}],\"histogram\":[{\"marker\":{\"pattern\":{\"fillmode\":\"overlay\",\"size\":10,\"solidity\":0.2}},\"type\":\"histogram\"}],\"scattergl\":[{\"type\":\"scattergl\",\"marker\":{\"colorbar\":{\"outlinewidth\":0,\"ticks\":\"\"}}}],\"scatter3d\":[{\"type\":\"scatter3d\",\"line\":{\"colorbar\":{\"outlinewidth\":0,\"ticks\":\"\"}},\"marker\":{\"colorbar\":{\"outlinewidth\":0,\"ticks\":\"\"}}}],\"scattermapbox\":[{\"type\":\"scattermapbox\",\"marker\":{\"colorbar\":{\"outlinewidth\":0,\"ticks\":\"\"}}}],\"scatterternary\":[{\"type\":\"scatterternary\",\"marker\":{\"colorbar\":{\"outlinewidth\":0,\"ticks\":\"\"}}}],\"scattercarpet\":[{\"type\":\"scattercarpet\",\"marker\":{\"colorbar\":{\"outlinewidth\":0,\"ticks\":\"\"}}}],\"carpet\":[{\"aaxis\":{\"endlinecolor\":\"#2a3f5f\",\"gridcolor\":\"white\",\"linecolor\":\"white\",\"minorgridcolor\":\"white\",\"startlinecolor\":\"#2a3f5f\"},\"baxis\":{\"endlinecolor\":\"#2a3f5f\",\"gridcolor\":\"white\",\"linecolor\":\"white\",\"minorgridcolor\":\"white\",\"startlinecolor\":\"#2a3f5f\"},\"type\":\"carpet\"}],\"table\":[{\"cells\":{\"fill\":{\"color\":\"#EBF0F8\"},\"line\":{\"color\":\"white\"}},\"header\":{\"fill\":{\"color\":\"#C8D4E3\"},\"line\":{\"color\":\"white\"}},\"type\":\"table\"}],\"barpolar\":[{\"marker\":{\"line\":{\"color\":\"#E5ECF6\",\"width\":0.5},\"pattern\":{\"fillmode\":\"overlay\",\"size\":10,\"solidity\":0.2}},\"type\":\"barpolar\"}],\"pie\":[{\"automargin\":true,\"type\":\"pie\"}]},\"layout\":{\"autotypenumbers\":\"strict\",\"colorway\":[\"#636efa\",\"#EF553B\",\"#00cc96\",\"#ab63fa\",\"#FFA15A\",\"#19d3f3\",\"#FF6692\",\"#B6E880\",\"#FF97FF\",\"#FECB52\"],\"font\":{\"color\":\"#2a3f5f\"},\"hovermode\":\"closest\",\"hoverlabel\":{\"align\":\"left\"},\"paper_bgcolor\":\"white\",\"plot_bgcolor\":\"#E5ECF6\",\"polar\":{\"bgcolor\":\"#E5ECF6\",\"angularaxis\":{\"gridcolor\":\"white\",\"linecolor\":\"white\",\"ticks\":\"\"},\"radialaxis\":{\"gridcolor\":\"white\",\"linecolor\":\"white\",\"ticks\":\"\"}},\"ternary\":{\"bgcolor\":\"#E5ECF6\",\"aaxis\":{\"gridcolor\":\"white\",\"linecolor\":\"white\",\"ticks\":\"\"},\"baxis\":{\"gridcolor\":\"white\",\"linecolor\":\"white\",\"ticks\":\"\"},\"caxis\":{\"gridcolor\":\"white\",\"linecolor\":\"white\",\"ticks\":\"\"}},\"coloraxis\":{\"colorbar\":{\"outlinewidth\":0,\"ticks\":\"\"}},\"colorscale\":{\"sequential\":[[0.0,\"#0d0887\"],[0.1111111111111111,\"#46039f\"],[0.2222222222222222,\"#7201a8\"],[0.3333333333333333,\"#9c179e\"],[0.4444444444444444,\"#bd3786\"],[0.5555555555555556,\"#d8576b\"],[0.6666666666666666,\"#ed7953\"],[0.7777777777777778,\"#fb9f3a\"],[0.8888888888888888,\"#fdca26\"],[1.0,\"#f0f921\"]],\"sequentialminus\":[[0.0,\"#0d0887\"],[0.1111111111111111,\"#46039f\"],[0.2222222222222222,\"#7201a8\"],[0.3333333333333333,\"#9c179e\"],[0.4444444444444444,\"#bd3786\"],[0.5555555555555556,\"#d8576b\"],[0.6666666666666666,\"#ed7953\"],[0.7777777777777778,\"#fb9f3a\"],[0.8888888888888888,\"#fdca26\"],[1.0,\"#f0f921\"]],\"diverging\":[[0,\"#8e0152\"],[0.1,\"#c51b7d\"],[0.2,\"#de77ae\"],[0.3,\"#f1b6da\"],[0.4,\"#fde0ef\"],[0.5,\"#f7f7f7\"],[0.6,\"#e6f5d0\"],[0.7,\"#b8e186\"],[0.8,\"#7fbc41\"],[0.9,\"#4d9221\"],[1,\"#276419\"]]},\"xaxis\":{\"gridcolor\":\"white\",\"linecolor\":\"white\",\"ticks\":\"\",\"title\":{\"standoff\":15},\"zerolinecolor\":\"white\",\"automargin\":true,\"zerolinewidth\":2},\"yaxis\":{\"gridcolor\":\"white\",\"linecolor\":\"white\",\"ticks\":\"\",\"title\":{\"standoff\":15},\"zerolinecolor\":\"white\",\"automargin\":true,\"zerolinewidth\":2},\"scene\":{\"xaxis\":{\"backgroundcolor\":\"#E5ECF6\",\"gridcolor\":\"white\",\"linecolor\":\"white\",\"showbackground\":true,\"ticks\":\"\",\"zerolinecolor\":\"white\",\"gridwidth\":2},\"yaxis\":{\"backgroundcolor\":\"#E5ECF6\",\"gridcolor\":\"white\",\"linecolor\":\"white\",\"showbackground\":true,\"ticks\":\"\",\"zerolinecolor\":\"white\",\"gridwidth\":2},\"zaxis\":{\"backgroundcolor\":\"#E5ECF6\",\"gridcolor\":\"white\",\"linecolor\":\"white\",\"showbackground\":true,\"ticks\":\"\",\"zerolinecolor\":\"white\",\"gridwidth\":2}},\"shapedefaults\":{\"line\":{\"color\":\"#2a3f5f\"}},\"annotationdefaults\":{\"arrowcolor\":\"#2a3f5f\",\"arrowhead\":0,\"arrowwidth\":1},\"geo\":{\"bgcolor\":\"white\",\"landcolor\":\"#E5ECF6\",\"subunitcolor\":\"white\",\"showland\":true,\"showlakes\":true,\"lakecolor\":\"white\"},\"title\":{\"x\":0.05},\"mapbox\":{\"style\":\"light\"}}},\"xaxis\":{\"anchor\":\"y\",\"domain\":[0.0,1.0],\"scaleanchor\":\"y\",\"constrain\":\"domain\"},\"yaxis\":{\"anchor\":\"x\",\"domain\":[0.0,1.0],\"autorange\":\"reversed\",\"constrain\":\"domain\"},\"coloraxis\":{\"colorscale\":[[0.0,\"#0d0887\"],[0.1111111111111111,\"#46039f\"],[0.2222222222222222,\"#7201a8\"],[0.3333333333333333,\"#9c179e\"],[0.4444444444444444,\"#bd3786\"],[0.5555555555555556,\"#d8576b\"],[0.6666666666666666,\"#ed7953\"],[0.7777777777777778,\"#fb9f3a\"],[0.8888888888888888,\"#fdca26\"],[1.0,\"#f0f921\"]]},\"margin\":{\"t\":60},\"height\":1000,\"width\":1000},                        {\"responsive\": true}                    ).then(function(){\n",
       "                            \n",
       "var gd = document.getElementById('def81e37-1ff6-4d93-b2d5-55f0d7a8bed6');\n",
       "var x = new MutationObserver(function (mutations, observer) {{\n",
       "        var display = window.getComputedStyle(gd).display;\n",
       "        if (!display || display === 'none') {{\n",
       "            console.log([gd, 'removed!']);\n",
       "            Plotly.purge(gd);\n",
       "            observer.disconnect();\n",
       "        }}\n",
       "}});\n",
       "\n",
       "// Listen for the removal of the full notebook cells\n",
       "var notebookContainer = gd.closest('#notebook-container');\n",
       "if (notebookContainer) {{\n",
       "    x.observe(notebookContainer, {childList: true});\n",
       "}}\n",
       "\n",
       "// Listen for the clearing of the current output cell\n",
       "var outputEl = gd.closest('.output');\n",
       "if (outputEl) {{\n",
       "    x.observe(outputEl, {childList: true});\n",
       "}}\n",
       "\n",
       "                        })                };                });            </script>        </div>"
      ]
     },
     "metadata": {},
     "output_type": "display_data"
    }
   ],
   "source": [
    "ig.show()"
   ]
  },
  {
   "cell_type": "code",
   "execution_count": null,
   "id": "f7cc4e1f-884e-43ad-91da-038144d597c9",
   "metadata": {},
   "outputs": [],
   "source": []
  }
 ],
 "metadata": {
  "kernelspec": {
   "display_name": "Python 3 (ipykernel)",
   "language": "python",
   "name": "python3"
  },
  "language_info": {
   "codemirror_mode": {
    "name": "ipython",
    "version": 3
   },
   "file_extension": ".py",
   "mimetype": "text/x-python",
   "name": "python",
   "nbconvert_exporter": "python",
   "pygments_lexer": "ipython3",
   "version": "3.10.12"
  }
 },
 "nbformat": 4,
 "nbformat_minor": 5
}
