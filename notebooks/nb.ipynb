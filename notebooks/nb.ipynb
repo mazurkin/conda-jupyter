{
 "cells": [
  {
   "cell_type": "markdown",
   "id": "df3ee993-045a-4eae-bca5-e00ca1d44442",
   "metadata": {},
   "source": [
    "# Avails DB fitting"
   ]
  },
  {
   "cell_type": "code",
   "execution_count": 1,
   "id": "d82a3088-fbf8-43ec-b55c-80ee9bbd0196",
   "metadata": {},
   "outputs": [],
   "source": [
    "import numpy as np\n",
    "import matplotlib.pyplot as plt\n",
    "from scipy.optimize import curve_fit\n",
    "from scipy.stats import t\n",
    "from numpy.linalg import inv"
   ]
  },
  {
   "cell_type": "markdown",
   "id": "eb890a86-b72b-4085-9118-335db7bfe4f0",
   "metadata": {},
   "source": [
    "## Preprocessing"
   ]
  },
  {
   "cell_type": "code",
   "execution_count": 2,
   "id": "f1db3fa7-47e9-4c29-92d9-7583f43d7cb0",
   "metadata": {},
   "outputs": [],
   "source": [
    "xs_orig = np.array([\n",
    "    5.0,\n",
    "    5.0,\n",
    "    5.0,\n",
    "    5.0,\n",
    "    5.0,\n",
    "    4.94,\n",
    "    8.0,\n",
    "    12.0,\n",
    "])"
   ]
  },
  {
   "cell_type": "code",
   "execution_count": 3,
   "id": "eae5b3a1",
   "metadata": {},
   "outputs": [],
   "source": [
    "ys_orig = np.array([\n",
    "    0.5380260968860795,\n",
    "    0.519865470852018,\n",
    "    0.614329268292683,\n",
    "    0.6227544910179641,\n",
    "    0.5879444761361475,\n",
    "    0.3984420741796706,\n",
    "    0.309899730619575,\n",
    "    0.46153846153846156, \n",
    "])"
   ]
  },
  {
   "cell_type": "code",
   "execution_count": 4,
   "id": "eddf996e",
   "metadata": {},
   "outputs": [],
   "source": [
    "original_sample_size = len(xs_orig)"
   ]
  },
  {
   "cell_type": "code",
   "execution_count": 5,
   "id": "29e94d0a",
   "metadata": {},
   "outputs": [
    {
     "data": {
      "text/plain": [
       "8"
      ]
     },
     "execution_count": 5,
     "metadata": {},
     "output_type": "execute_result"
    }
   ],
   "source": [
    "original_sample_size"
   ]
  },
  {
   "cell_type": "code",
   "execution_count": 6,
   "id": "e0a968d8-44df-465e-87cb-00a0b3a85e2f",
   "metadata": {},
   "outputs": [],
   "source": [
    "xs = xs_orig\n",
    "ys = ys_orig"
   ]
  },
  {
   "cell_type": "markdown",
   "id": "b25441aa-85c1-42cf-88cc-a7efb58f0abf",
   "metadata": {},
   "source": [
    "## Fitting the data to selected function\n",
    "\n",
    "$$-1  + \\frac{2}{1 + e^{-kx}}$$"
   ]
  },
  {
   "cell_type": "code",
   "execution_count": 7,
   "id": "0e17fa76-fdaf-441c-bb67-801c869ef6b0",
   "metadata": {},
   "outputs": [],
   "source": [
    "# Assumed shape of the non-linear function\n",
    "def func(x, k):\n",
    "    if not isinstance(k, (int, float)):\n",
    "        raise ValueError('Parameter is invalid')\n",
    "    return -1.0 + 2.0 / (1.0 + np.exp(-k * x))"
   ]
  },
  {
   "cell_type": "code",
   "execution_count": 8,
   "id": "e6cc10b2-1347-4979-8531-d3801c209fc6",
   "metadata": {},
   "outputs": [],
   "source": [
    "# gradient\n",
    "def grad_func(x, k):\n",
    "    if not isinstance(k, (int, float)):\n",
    "        raise ValueError('Parameter is invalid')\n",
    "    grad_k = 2.0 * x * np.exp(-k*x) / (1.0 + np.exp(-k*x))**2\n",
    "    return np.array([grad_k]).T"
   ]
  },
  {
   "cell_type": "markdown",
   "id": "84a0b6dc",
   "metadata": {},
   "source": [
    "### Fitting"
   ]
  },
  {
   "cell_type": "code",
   "execution_count": 9,
   "id": "8e02eaf4-2fbf-41b1-9673-2c038e90f6eb",
   "metadata": {},
   "outputs": [],
   "source": [
    "# Fit the function to the data\n",
    "popt, pcov = curve_fit(func, xs, ys)"
   ]
  },
  {
   "cell_type": "code",
   "execution_count": 10,
   "id": "413e171f-389e-4353-8989-11fff2ff2e76",
   "metadata": {},
   "outputs": [
    {
     "data": {
      "text/plain": [
       "(array([0.18182149]), array([[0.00132362]]))"
      ]
     },
     "execution_count": 10,
     "metadata": {},
     "output_type": "execute_result"
    }
   ],
   "source": [
    "popt, pcov"
   ]
  },
  {
   "cell_type": "code",
   "execution_count": 11,
   "id": "05086481",
   "metadata": {},
   "outputs": [
    {
     "data": {
      "text/plain": [
       "array([0.03638165])"
      ]
     },
     "execution_count": 11,
     "metadata": {},
     "output_type": "execute_result"
    }
   ],
   "source": [
    "np.sqrt(np.diag(pcov)) # perr"
   ]
  },
  {
   "cell_type": "markdown",
   "id": "d85a7327",
   "metadata": {},
   "source": [
    "### Debug"
   ]
  },
  {
   "cell_type": "markdown",
   "id": "7269822e",
   "metadata": {},
   "source": [
    "original function on scalar"
   ]
  },
  {
   "cell_type": "code",
   "execution_count": 12,
   "id": "265b1f6c",
   "metadata": {},
   "outputs": [
    {
     "data": {
      "text/plain": [
       "0.7207035856338939"
      ]
     },
     "execution_count": 12,
     "metadata": {},
     "output_type": "execute_result"
    }
   ],
   "source": [
    "func(10, *popt)"
   ]
  },
  {
   "cell_type": "markdown",
   "id": "731c9033",
   "metadata": {},
   "source": [
    "original function on array"
   ]
  },
  {
   "cell_type": "code",
   "execution_count": 13,
   "id": "1133ee0c",
   "metadata": {},
   "outputs": [
    {
     "data": {
      "text/plain": [
       "array([0.72070359, 0.94866014])"
      ]
     },
     "execution_count": 13,
     "metadata": {},
     "output_type": "execute_result"
    }
   ],
   "source": [
    "func(np.array([10, 20]), *popt)"
   ]
  },
  {
   "cell_type": "markdown",
   "id": "43f4aa02",
   "metadata": {},
   "source": [
    "gradient on scalar (returns the array of partial derivative at x)"
   ]
  },
  {
   "cell_type": "code",
   "execution_count": 14,
   "id": "96523522",
   "metadata": {},
   "outputs": [
    {
     "data": {
      "text/plain": [
       "array([2.40293171])"
      ]
     },
     "execution_count": 14,
     "metadata": {},
     "output_type": "execute_result"
    }
   ],
   "source": [
    "grad_func(10, *popt)"
   ]
  },
  {
   "cell_type": "markdown",
   "id": "b9bfdd02",
   "metadata": {},
   "source": [
    "gradient on scalar (returns the array of arrays of partial derivative at x)"
   ]
  },
  {
   "cell_type": "code",
   "execution_count": 15,
   "id": "c6e1caf1",
   "metadata": {},
   "outputs": [
    {
     "data": {
      "text/plain": [
       "array([[2.40293171],\n",
       "       [1.00043942]])"
      ]
     },
     "execution_count": 15,
     "metadata": {},
     "output_type": "execute_result"
    }
   ],
   "source": [
    "grad_func(np.array([10, 20]), *popt)"
   ]
  },
  {
   "cell_type": "markdown",
   "id": "e05362d7",
   "metadata": {},
   "source": [
    "### Residuals (non weighted)"
   ]
  },
  {
   "cell_type": "code",
   "execution_count": 16,
   "id": "fa84d983",
   "metadata": {},
   "outputs": [],
   "source": [
    "y_pred = func(xs, *popt)"
   ]
  },
  {
   "cell_type": "code",
   "execution_count": 17,
   "id": "8385d93e",
   "metadata": {},
   "outputs": [
    {
     "data": {
      "text/plain": [
       "array([0.42563497, 0.42563497, 0.42563497, 0.42563497, 0.42563497,\n",
       "       0.42115817, 0.62140212, 0.79721695])"
      ]
     },
     "execution_count": 17,
     "metadata": {},
     "output_type": "execute_result"
    }
   ],
   "source": [
    "y_pred"
   ]
  },
  {
   "cell_type": "code",
   "execution_count": 18,
   "id": "642d8da0",
   "metadata": {},
   "outputs": [
    {
     "data": {
      "text/plain": [
       "array([ 0.11239112,  0.0942305 ,  0.1886943 ,  0.19711952,  0.1623095 ,\n",
       "       -0.0227161 , -0.31150239, -0.33567848])"
      ]
     },
     "execution_count": 18,
     "metadata": {},
     "output_type": "execute_result"
    }
   ],
   "source": [
    "ys - y_pred"
   ]
  },
  {
   "cell_type": "markdown",
   "id": "4c71c658-f53f-401f-bc90-08d24ef81912",
   "metadata": {},
   "source": [
    "### How pcov is calculate?"
   ]
  },
  {
   "cell_type": "code",
   "execution_count": 19,
   "id": "09071d34-eeef-405a-89ec-0a3fdc96c1a8",
   "metadata": {},
   "outputs": [],
   "source": [
    "J = grad_func(xs, *popt)  # Jacobian (gradient matrix)"
   ]
  },
  {
   "cell_type": "code",
   "execution_count": 20,
   "id": "d8fc5f09",
   "metadata": {},
   "outputs": [],
   "source": [
    "pcov2 = np.sum((ys - y_pred)**2) / (len(ys) - len(popt)) * inv(np.dot(J.T, J))"
   ]
  },
  {
   "cell_type": "code",
   "execution_count": 21,
   "id": "ec2621bc",
   "metadata": {},
   "outputs": [
    {
     "data": {
      "text/plain": [
       "array([[0.0013236]])"
      ]
     },
     "execution_count": 21,
     "metadata": {},
     "output_type": "execute_result"
    }
   ],
   "source": [
    "pcov2"
   ]
  },
  {
   "cell_type": "code",
   "execution_count": 22,
   "id": "7bbb6f8d",
   "metadata": {},
   "outputs": [
    {
     "data": {
      "text/plain": [
       "array([[0.00132362]])"
      ]
     },
     "execution_count": 22,
     "metadata": {},
     "output_type": "execute_result"
    }
   ],
   "source": [
    "pcov"
   ]
  },
  {
   "cell_type": "markdown",
   "id": "513b0a65-3332-4c68-a71f-c822d9c0ece0",
   "metadata": {},
   "source": [
    "### Sigma estimated from residuals "
   ]
  },
  {
   "cell_type": "code",
   "execution_count": 23,
   "id": "ea8282c7-d046-4517-954a-59e6ce8d50b7",
   "metadata": {},
   "outputs": [],
   "source": [
    "psigma=np.sqrt(np.sum((ys - y_pred)**2) / (len(xs) - len(popt)))"
   ]
  },
  {
   "cell_type": "code",
   "execution_count": 24,
   "id": "48d324c6",
   "metadata": {},
   "outputs": [
    {
     "data": {
      "text/plain": [
       "0.21796034211699009"
      ]
     },
     "execution_count": 24,
     "metadata": {},
     "output_type": "execute_result"
    }
   ],
   "source": [
    "psigma"
   ]
  },
  {
   "cell_type": "markdown",
   "id": "6983df74",
   "metadata": {},
   "source": [
    "### Intervals"
   ]
  },
  {
   "cell_type": "code",
   "execution_count": 25,
   "id": "78e388d8-c9be-4b6d-b4de-c1ef5d68457c",
   "metadata": {},
   "outputs": [],
   "source": [
    "CONFIDENCE=0.9"
   ]
  },
  {
   "cell_type": "code",
   "execution_count": 26,
   "id": "f6e337a3",
   "metadata": {},
   "outputs": [],
   "source": [
    "df = original_sample_size - len(popt)  # degrees of freedom"
   ]
  },
  {
   "cell_type": "code",
   "execution_count": 27,
   "id": "bdf706ca",
   "metadata": {},
   "outputs": [
    {
     "data": {
      "text/plain": [
       "7"
      ]
     },
     "execution_count": 27,
     "metadata": {},
     "output_type": "execute_result"
    }
   ],
   "source": [
    "df"
   ]
  },
  {
   "cell_type": "code",
   "execution_count": 28,
   "id": "66bb2b0a",
   "metadata": {},
   "outputs": [
    {
     "data": {
      "text/plain": [
       "1.894578605061305"
      ]
     },
     "execution_count": 28,
     "metadata": {},
     "output_type": "execute_result"
    }
   ],
   "source": [
    "t.ppf(1 - (1 - CONFIDENCE) / 2, df)"
   ]
  },
  {
   "cell_type": "code",
   "execution_count": 29,
   "id": "e101fdb2",
   "metadata": {},
   "outputs": [
    {
     "data": {
      "text/plain": [
       "1.894578605061305"
      ]
     },
     "execution_count": 29,
     "metadata": {},
     "output_type": "execute_result"
    }
   ],
   "source": [
    "t.ppf(0.5 + CONFIDENCE / 2, df)"
   ]
  },
  {
   "cell_type": "code",
   "execution_count": 30,
   "id": "d8d054f6-1dd2-451e-8fc8-b491199390f1",
   "metadata": {},
   "outputs": [],
   "source": [
    "# based on https://jchiquet.github.io/MAP566/docs/regression/map566-lecture-nonlinear-regression.html#confidence-intervals-and-prediction-intervals\n",
    "\n",
    "# Delta Method for Prediction Bounds\n",
    "def delta_pred_bounds(x, popt, pcov, psigma):\n",
    "    y_pred = func(x, *popt)\n",
    "    J = grad_func(x, *popt)  # Jacobian (gradient matrix)\n",
    "    y_var = np.dot(J, np.dot(pcov, J.T))          \n",
    "    if y_var.shape == ():  # scalar\n",
    "        y_std = np.sqrt(y_var + psigma**2)    \n",
    "    else:\n",
    "        y_std = np.sqrt(y_var.diagonal() + psigma**2)     \n",
    "    y_swing = t.ppf(0.5 + CONFIDENCE / 2, df) * y_std\n",
    "    return y_pred - y_swing, y_pred + y_swing\n",
    "\n",
    "# Delta Method for Confidence Bounds\n",
    "def delta_conf_bounds(x, popt, pcov):\n",
    "    y_pred = func(x, *popt)\n",
    "    J = grad_func(x, *popt)  # Jacobian (gradient matrix)\n",
    "    y_var = np.dot(J, np.dot(pcov, J.T))             \n",
    "    if y_var.shape == ():  # scalar\n",
    "        y_std = np.sqrt(y_var)\n",
    "    else:\n",
    "        y_std = np.sqrt(y_var.diagonal())            \n",
    "    y_swing = t.ppf(0.5 + CONFIDENCE / 2, df) * y_std\n",
    "    return y_pred - y_swing, y_pred + y_swing"
   ]
  },
  {
   "cell_type": "markdown",
   "id": "955cb665",
   "metadata": {},
   "source": [
    "### Debug"
   ]
  },
  {
   "cell_type": "markdown",
   "id": "3364d7d3",
   "metadata": {},
   "source": [
    "on scalar"
   ]
  },
  {
   "cell_type": "code",
   "execution_count": 31,
   "id": "bafda8e2",
   "metadata": {},
   "outputs": [
    {
     "data": {
      "text/plain": [
       "(0.5550745706657093, 0.8863326006020785)"
      ]
     },
     "execution_count": 31,
     "metadata": {},
     "output_type": "execute_result"
    }
   ],
   "source": [
    "delta_conf_bounds(10, popt, pcov)"
   ]
  },
  {
   "cell_type": "markdown",
   "id": "e5a8ee1b",
   "metadata": {},
   "source": [
    "on array"
   ]
  },
  {
   "cell_type": "code",
   "execution_count": 32,
   "id": "8b57f77a",
   "metadata": {},
   "outputs": [
    {
     "data": {
      "text/plain": [
       "(array([0.55507457, 0.87970196]), array([0.8863326 , 1.01761832]))"
      ]
     },
     "execution_count": 32,
     "metadata": {},
     "output_type": "execute_result"
    }
   ],
   "source": [
    "delta_conf_bounds(np.array([10, 20]), popt, pcov)"
   ]
  },
  {
   "cell_type": "code",
   "execution_count": 33,
   "id": "28a58f8b-497a-470f-8b14-459fa0dda65d",
   "metadata": {},
   "outputs": [
    {
     "data": {
      "text/plain": [
       "(array([0.55507457, 0.87970196, 0.99479046]),\n",
       " array([0.8863326 , 1.01761832, 1.00243497]))"
      ]
     },
     "execution_count": 33,
     "metadata": {},
     "output_type": "execute_result"
    }
   ],
   "source": [
    "delta_conf_bounds(np.array([10, 20, 40]), popt, pcov)"
   ]
  },
  {
   "cell_type": "code",
   "execution_count": 34,
   "id": "bfbfabd2-d952-44f7-9b68-b8f585e27109",
   "metadata": {},
   "outputs": [
    {
     "data": {
      "text/plain": [
       "(array([0.55507457, 0.87970196, 0.97394815]),\n",
       " array([0.8863326 , 1.01761832, 1.00901911]))"
      ]
     },
     "execution_count": 34,
     "metadata": {},
     "output_type": "execute_result"
    }
   ],
   "source": [
    "delta_conf_bounds(np.array([10, 20, 30]), popt, pcov)"
   ]
  },
  {
   "cell_type": "markdown",
   "id": "bb99b468",
   "metadata": {},
   "source": [
    "### Debug"
   ]
  },
  {
   "cell_type": "code",
   "execution_count": 35,
   "id": "51123e52",
   "metadata": {},
   "outputs": [],
   "source": [
    "x_debug = np.array([10, 20])"
   ]
  },
  {
   "cell_type": "code",
   "execution_count": 36,
   "id": "016ae63b",
   "metadata": {},
   "outputs": [
    {
     "data": {
      "text/plain": [
       "array([10, 20])"
      ]
     },
     "execution_count": 36,
     "metadata": {},
     "output_type": "execute_result"
    }
   ],
   "source": [
    "x_debug"
   ]
  },
  {
   "cell_type": "code",
   "execution_count": 37,
   "id": "d0294924",
   "metadata": {},
   "outputs": [
    {
     "data": {
      "text/plain": [
       "array([0.72070359, 0.94866014])"
      ]
     },
     "execution_count": 37,
     "metadata": {},
     "output_type": "execute_result"
    }
   ],
   "source": [
    "y_pred = func(x_debug, *popt)\n",
    "y_pred"
   ]
  },
  {
   "cell_type": "code",
   "execution_count": 38,
   "id": "be7c06a6",
   "metadata": {},
   "outputs": [
    {
     "data": {
      "text/plain": [
       "array([[2.40293171],\n",
       "       [1.00043942]])"
      ]
     },
     "execution_count": 38,
     "metadata": {},
     "output_type": "execute_result"
    }
   ],
   "source": [
    "J = grad_func(x_debug, *popt)\n",
    "J"
   ]
  },
  {
   "cell_type": "code",
   "execution_count": 39,
   "id": "8ccfccc5",
   "metadata": {},
   "outputs": [
    {
     "data": {
      "text/plain": [
       "(2, 1)"
      ]
     },
     "execution_count": 39,
     "metadata": {},
     "output_type": "execute_result"
    }
   ],
   "source": [
    "J.shape"
   ]
  },
  {
   "cell_type": "code",
   "execution_count": 40,
   "id": "e2c7dcc5",
   "metadata": {},
   "outputs": [
    {
     "data": {
      "text/plain": [
       "(1, 1)"
      ]
     },
     "execution_count": 40,
     "metadata": {},
     "output_type": "execute_result"
    }
   ],
   "source": [
    "pcov.shape"
   ]
  },
  {
   "cell_type": "code",
   "execution_count": 41,
   "id": "44947228",
   "metadata": {},
   "outputs": [
    {
     "data": {
      "text/plain": [
       "array([[0.00318058, 0.00132421]])"
      ]
     },
     "execution_count": 41,
     "metadata": {},
     "output_type": "execute_result"
    }
   ],
   "source": [
    "np.dot(pcov, J.T)"
   ]
  },
  {
   "cell_type": "code",
   "execution_count": 42,
   "id": "c77a31a1",
   "metadata": {},
   "outputs": [
    {
     "data": {
      "text/plain": [
       "(1, 2)"
      ]
     },
     "execution_count": 42,
     "metadata": {},
     "output_type": "execute_result"
    }
   ],
   "source": [
    "np.dot(pcov, J.T).shape"
   ]
  },
  {
   "cell_type": "code",
   "execution_count": 43,
   "id": "63cf34b3",
   "metadata": {},
   "outputs": [
    {
     "data": {
      "text/plain": [
       "array([[0.00764271, 0.00318198],\n",
       "       [0.00318198, 0.00132479]])"
      ]
     },
     "execution_count": 43,
     "metadata": {},
     "output_type": "execute_result"
    }
   ],
   "source": [
    "y_var = np.dot(J, np.dot(pcov, J.T))\n",
    "y_var"
   ]
  },
  {
   "cell_type": "code",
   "execution_count": 44,
   "id": "a81c4c47",
   "metadata": {},
   "outputs": [
    {
     "data": {
      "text/plain": [
       "array([0.00764271, 0.00132479])"
      ]
     },
     "execution_count": 44,
     "metadata": {},
     "output_type": "execute_result"
    }
   ],
   "source": [
    "y_var.diagonal()"
   ]
  },
  {
   "cell_type": "code",
   "execution_count": 45,
   "id": "c2010407",
   "metadata": {},
   "outputs": [
    {
     "data": {
      "text/plain": [
       "array([0.08742261, 0.03639763])"
      ]
     },
     "execution_count": 45,
     "metadata": {},
     "output_type": "execute_result"
    }
   ],
   "source": [
    "y_std = np.sqrt(y_var.diagonal())\n",
    "y_std"
   ]
  },
  {
   "cell_type": "code",
   "execution_count": 46,
   "id": "e057dfc6",
   "metadata": {},
   "outputs": [
    {
     "data": {
      "text/plain": [
       "1.894578605061305"
      ]
     },
     "execution_count": 46,
     "metadata": {},
     "output_type": "execute_result"
    }
   ],
   "source": [
    "t.ppf(1-(1-CONFIDENCE)/2, df)"
   ]
  },
  {
   "cell_type": "code",
   "execution_count": 47,
   "id": "e8884e51",
   "metadata": {},
   "outputs": [
    {
     "data": {
      "text/plain": [
       "array([0.16562901, 0.06895818])"
      ]
     },
     "execution_count": 47,
     "metadata": {},
     "output_type": "execute_result"
    }
   ],
   "source": [
    "y_swing = t.ppf(1-(1-CONFIDENCE)/2, df) * y_std\n",
    "y_swing"
   ]
  },
  {
   "cell_type": "code",
   "execution_count": 48,
   "id": "7c66f4d7",
   "metadata": {},
   "outputs": [
    {
     "data": {
      "text/plain": [
       "array([0.55507457, 0.87970196])"
      ]
     },
     "execution_count": 48,
     "metadata": {},
     "output_type": "execute_result"
    }
   ],
   "source": [
    "y_pred - y_swing"
   ]
  },
  {
   "cell_type": "code",
   "execution_count": 49,
   "id": "851c3a36",
   "metadata": {},
   "outputs": [
    {
     "data": {
      "text/plain": [
       "array([0.8863326 , 1.01761832])"
      ]
     },
     "execution_count": 49,
     "metadata": {},
     "output_type": "execute_result"
    }
   ],
   "source": [
    "y_pred + y_swing"
   ]
  },
  {
   "cell_type": "markdown",
   "id": "5fc7cb77",
   "metadata": {},
   "source": [
    "### Plot"
   ]
  },
  {
   "cell_type": "code",
   "execution_count": 50,
   "id": "3c7f7a94",
   "metadata": {},
   "outputs": [],
   "source": [
    "# Generate points for the fitted curve\n",
    "X_UPPER_LIMIT=50\n",
    "X_LOWER_LIMIT=0\n",
    "\n",
    "xfit = np.linspace(X_LOWER_LIMIT, X_UPPER_LIMIT, 5000)"
   ]
  },
  {
   "cell_type": "code",
   "execution_count": 51,
   "id": "5963d5b2",
   "metadata": {},
   "outputs": [],
   "source": [
    "yfit = func(xfit, *popt)"
   ]
  },
  {
   "cell_type": "code",
   "execution_count": 52,
   "id": "e11e876a",
   "metadata": {},
   "outputs": [],
   "source": [
    "# Calculate lower and upper prediction bands\n",
    "lower_pred, upper_pred = delta_pred_bounds(xfit, popt, pcov, psigma)\n",
    "lower_conf, upper_conf = delta_conf_bounds(xfit, popt, pcov)"
   ]
  },
  {
   "cell_type": "code",
   "execution_count": 53,
   "id": "a449358b-f7b2-4f5b-a144-b0d8791f869c",
   "metadata": {},
   "outputs": [
    {
     "data": {
      "image/png": "[encoded data removed]",
      "text/plain": [
       "<Figure size 1000x600 with 1 Axes>"
      ]
     },
     "metadata": {},
     "output_type": "display_data"
    }
   ],
   "source": [
    "plt.figure(figsize=(10, 6))\n",
    "plt.plot(xs, ys, 'o', label='Data')\n",
    "plt.plot(xfit, yfit, '-', label='Fit', color='#339900')\n",
    "plt.fill_between(xfit, lower_conf, upper_conf, color='#339900', alpha=0.3, label='95% Confidence Band')\n",
    "plt.fill_between(xfit, lower_pred, upper_pred, color='gray', alpha=0.3, label='95% Prediction Band')\n",
    "plt.xlabel('x')\n",
    "plt.ylabel('y')\n",
    "plt.legend()\n",
    "plt.show()"
   ]
  },
  {
   "cell_type": "markdown",
   "id": "20e26710-2d5d-4377-aabe-a96b6c8eed42",
   "metadata": {},
   "source": [
    "## Possible issues\n",
    "\n",
    "- bands are not correct because duplicated rows lower the variance\n",
    "- one would need to adjust the sigma and cov matrix (not sure if there is an easy way)"
   ]
  },
  {
   "cell_type": "markdown",
   "id": "bad6878c-90a3-469f-9cd8-94055f2a64d7",
   "metadata": {},
   "source": [
    "# Fitting a function with more than one parameter"
   ]
  },
  {
   "cell_type": "code",
   "execution_count": 54,
   "id": "4aaedd66-15b7-493d-8059-da89961cba66",
   "metadata": {},
   "outputs": [],
   "source": [
    "# Example non-linear function\n",
    "def func(x, a, b, c):\n",
    "    return a * np.exp(-b * x) + c\n",
    "\n",
    "# Gradient function\n",
    "def grad_func(x, a, b, c):\n",
    "    grad_a = np.exp(-b * x)\n",
    "    grad_b = -a * x * np.exp(-b * x)\n",
    "    grad_c = np.ones_like(x)\n",
    "    return np.array([grad_a, grad_b, grad_c]).T"
   ]
  },
  {
   "cell_type": "code",
   "execution_count": 55,
   "id": "4a00a323-dc2f-403b-9361-425dcd8503c8",
   "metadata": {},
   "outputs": [],
   "source": [
    "# Generate synthetic data\n",
    "np.random.seed(0)\n",
    "x = np.linspace(0, 4, 50)\n",
    "y = func(x, 2.5, 1.3, 0.5)\n",
    "yn = y + 0.1 * np.random.normal(size=len(x))\n",
    "\n",
    "# Fit the function to the data\n",
    "popt, pcov = curve_fit(func, x, yn)"
   ]
  },
  {
   "cell_type": "code",
   "execution_count": 56,
   "id": "dbf5953b-1cf5-4b73-99cf-45a1cceafa4e",
   "metadata": {},
   "outputs": [
    {
     "data": {
      "text/plain": [
       "(array([2.65360463, 1.27183237, 0.47300998]),\n",
       " array([[ 0.00400638,  0.00148607, -0.00023274],\n",
       "        [ 0.00148607,  0.0044552 ,  0.00142501],\n",
       "        [-0.00023274,  0.00142501,  0.00083026]]))"
      ]
     },
     "execution_count": 56,
     "metadata": {},
     "output_type": "execute_result"
    }
   ],
   "source": [
    "popt, pcov"
   ]
  },
  {
   "cell_type": "code",
   "execution_count": 57,
   "id": "ffbae5eb-780b-4267-b3db-2a7428b25bb1",
   "metadata": {},
   "outputs": [],
   "source": [
    "y_pred=func(x, *popt)\n",
    "J = grad_func(x, *popt)  # Jacobian"
   ]
  },
  {
   "cell_type": "code",
   "execution_count": 58,
   "id": "e76a652c-5751-44e8-a373-b2a331ef8087",
   "metadata": {},
   "outputs": [],
   "source": [
    "pcov2 = np.sum((yn - y_pred)**2) / (len(yn) - len(popt)) * inv(np.dot(J.T, J))"
   ]
  },
  {
   "cell_type": "code",
   "execution_count": 59,
   "id": "1c29deef-806e-45ea-aba5-4ec3c45aab77",
   "metadata": {},
   "outputs": [
    {
     "data": {
      "text/plain": [
       "array([[ 0.00400649,  0.00148621, -0.00023271],\n",
       "       [ 0.00148621,  0.00445543,  0.00142496],\n",
       "       [-0.00023271,  0.00142496,  0.0008302 ]])"
      ]
     },
     "execution_count": 59,
     "metadata": {},
     "output_type": "execute_result"
    }
   ],
   "source": [
    "pcov2"
   ]
  },
  {
   "cell_type": "code",
   "execution_count": 60,
   "id": "d4f332db-8803-436f-a238-69856f09e280",
   "metadata": {},
   "outputs": [
    {
     "data": {
      "text/plain": [
       "0.10762376148889867"
      ]
     },
     "execution_count": 60,
     "metadata": {},
     "output_type": "execute_result"
    }
   ],
   "source": [
    "psigma=np.sqrt(np.sum((yn - y_pred)**2) / (len(x) - len(popt)))\n",
    "psigma"
   ]
  },
  {
   "cell_type": "code",
   "execution_count": 61,
   "id": "026e46ae-425d-4028-9424-034e3da79547",
   "metadata": {},
   "outputs": [],
   "source": [
    "# Generate points for the fitted curve\n",
    "xfit = np.linspace(0, 4, 1000)\n",
    "yfit = func(xfit, *popt)\n",
    "\n",
    "# Calculate lower and upper prediction and confidence bands\n",
    "lower_pred, upper_pred = delta_pred_bounds(xfit, popt, pcov, psigma)\n",
    "lower_conf, upper_conf = delta_conf_bounds(xfit, popt, pcov)"
   ]
  },
  {
   "cell_type": "code",
   "execution_count": 62,
   "id": "b6071575-08a9-42f0-bf5a-e4e58b1e0833",
   "metadata": {},
   "outputs": [
    {
     "data": {
      "image/png": "[encoded data removed]",
      "text/plain": [
       "<Figure size 1000x600 with 1 Axes>"
      ]
     },
     "metadata": {},
     "output_type": "display_data"
    }
   ],
   "source": [
    "plt.figure(figsize=(10, 6))\n",
    "plt.plot(x, yn, 'o', label='Data')\n",
    "plt.plot(xfit, yfit, '-', label='Fit', color='#339900')\n",
    "plt.fill_between(xfit, lower_conf, upper_conf, color='#339900', alpha=0.3, label='95% Confidence Band')\n",
    "plt.fill_between(xfit, lower_pred, upper_pred, color='gray', alpha=0.3, label='95% Prediction Band')\n",
    "plt.xlabel('x')\n",
    "plt.ylabel('y')\n",
    "plt.legend()\n",
    "plt.show()"
   ]
  }
 ],
 "metadata": {
  "kernelspec": {
   "display_name": "Python 3 (ipykernel)",
   "language": "python",
   "name": "python3"
  },
  "language_info": {
   "codemirror_mode": {
    "name": "ipython",
    "version": 3
   },
   "file_extension": ".py",
   "mimetype": "text/x-python",
   "name": "python",
   "nbconvert_exporter": "python",
   "pygments_lexer": "ipython3",
   "version": "3.10.12"
  }
 },
 "nbformat": 4,
 "nbformat_minor": 5
}
